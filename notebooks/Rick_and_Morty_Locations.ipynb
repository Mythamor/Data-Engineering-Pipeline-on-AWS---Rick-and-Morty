{
 "cells": [
  {
   "cell_type": "markdown",
   "id": "081e5ea8",
   "metadata": {},
   "source": [
    "# The Rick and Morty Location API"
   ]
  },
  {
   "cell_type": "code",
   "execution_count": 33,
   "id": "144534be",
   "metadata": {},
   "outputs": [],
   "source": [
    "# Import libraries\n",
    "import pandas as pd\n",
    "import requests\n",
    "import json\n",
    "import datetime\n",
    "\n",
    "# S3 imports\n",
    "import boto3"
   ]
  },
  {
   "cell_type": "code",
   "execution_count": 2,
   "id": "862e8470",
   "metadata": {},
   "outputs": [
    {
     "name": "stdout",
     "output_type": "stream",
     "text": [
      "dict_keys(['info', 'results'])\n"
     ]
    }
   ],
   "source": [
    "# Fetch character data from api\n",
    "url = \"https://rickandmortyapi.com/api/location\"\n",
    "\n",
    "response = requests.get(url)\n",
    "data = response.json()\n",
    "\n",
    "print(data.keys())"
   ]
  },
  {
   "cell_type": "code",
   "execution_count": 3,
   "id": "e9531d45",
   "metadata": {},
   "outputs": [
    {
     "data": {
      "text/plain": [
       "{'count': 126,\n",
       " 'pages': 7,\n",
       " 'next': 'https://rickandmortyapi.com/api/location?page=2',\n",
       " 'prev': None}"
      ]
     },
     "execution_count": 3,
     "metadata": {},
     "output_type": "execute_result"
    }
   ],
   "source": [
    "# Analyze the info key\n",
    "data['info']"
   ]
  },
  {
   "cell_type": "code",
   "execution_count": 4,
   "id": "dccbb595",
   "metadata": {},
   "outputs": [
    {
     "name": "stdout",
     "output_type": "stream",
     "text": [
      "20\n"
     ]
    },
    {
     "data": {
      "text/plain": [
       "{'id': 1,\n",
       " 'name': 'Earth (C-137)',\n",
       " 'type': 'Planet',\n",
       " 'dimension': 'Dimension C-137',\n",
       " 'residents': ['https://rickandmortyapi.com/api/character/38',\n",
       "  'https://rickandmortyapi.com/api/character/45',\n",
       "  'https://rickandmortyapi.com/api/character/71',\n",
       "  'https://rickandmortyapi.com/api/character/82',\n",
       "  'https://rickandmortyapi.com/api/character/83',\n",
       "  'https://rickandmortyapi.com/api/character/92',\n",
       "  'https://rickandmortyapi.com/api/character/112',\n",
       "  'https://rickandmortyapi.com/api/character/114',\n",
       "  'https://rickandmortyapi.com/api/character/116',\n",
       "  'https://rickandmortyapi.com/api/character/117',\n",
       "  'https://rickandmortyapi.com/api/character/120',\n",
       "  'https://rickandmortyapi.com/api/character/127',\n",
       "  'https://rickandmortyapi.com/api/character/155',\n",
       "  'https://rickandmortyapi.com/api/character/169',\n",
       "  'https://rickandmortyapi.com/api/character/175',\n",
       "  'https://rickandmortyapi.com/api/character/179',\n",
       "  'https://rickandmortyapi.com/api/character/186',\n",
       "  'https://rickandmortyapi.com/api/character/201',\n",
       "  'https://rickandmortyapi.com/api/character/216',\n",
       "  'https://rickandmortyapi.com/api/character/239',\n",
       "  'https://rickandmortyapi.com/api/character/271',\n",
       "  'https://rickandmortyapi.com/api/character/302',\n",
       "  'https://rickandmortyapi.com/api/character/303',\n",
       "  'https://rickandmortyapi.com/api/character/338',\n",
       "  'https://rickandmortyapi.com/api/character/343',\n",
       "  'https://rickandmortyapi.com/api/character/356',\n",
       "  'https://rickandmortyapi.com/api/character/394'],\n",
       " 'url': 'https://rickandmortyapi.com/api/location/1',\n",
       " 'created': '2017-11-10T12:42:04.162Z'}"
      ]
     },
     "execution_count": 4,
     "metadata": {},
     "output_type": "execute_result"
    }
   ],
   "source": [
    "# Analyze the result key\n",
    "print(len(data['results']))\n",
    "data['results'][0]"
   ]
  },
  {
   "cell_type": "code",
   "execution_count": 5,
   "id": "b80826e7",
   "metadata": {},
   "outputs": [
    {
     "name": "stderr",
     "output_type": "stream",
     "text": [
      "Extracting Page 7: : 7it [00:04,  1.71it/s]"
     ]
    },
    {
     "name": "stdout",
     "output_type": "stream",
     "text": [
      "Data succedssfully extracted!\n"
     ]
    },
    {
     "name": "stderr",
     "output_type": "stream",
     "text": [
      "\n"
     ]
    }
   ],
   "source": [
    "# Function to write data to a dataframe\n",
    "from tqdm import tqdm\n",
    "import time\n",
    "\n",
    "all_data = []\n",
    "page = 1\n",
    "\n",
    "# Initialize the progress bar\n",
    "with tqdm(desc=\"Extracting Pages\", ncols=100, ascii=True) as pbar:\n",
    "    while True:\n",
    "        # Update the progress bar description with the current page\n",
    "        pbar.set_description(f\"Extracting Page {page}\")\n",
    "        \n",
    "        # Make the API request\n",
    "        response = requests.get(f'https://rickandmortyapi.com/api/location?page={str(page)}')\n",
    "        data = response.json().get('results', [])\n",
    "        \n",
    "        # Collect data\n",
    "        all_data.extend(data)\n",
    "        \n",
    "        # Update the progress bar (increment by 1 page)\n",
    "        pbar.update(1)\n",
    "        \n",
    "        # Check if there is a next page\n",
    "        if response.json().get('info', {}).get('next') is not None:\n",
    "            page += 1\n",
    "        else:\n",
    "            break\n",
    "\n",
    "    print('Data successfully extracted!')"
   ]
  },
  {
   "cell_type": "code",
   "execution_count": 19,
   "id": "94bbdfa7",
   "metadata": {},
   "outputs": [
    {
     "name": "stdout",
     "output_type": "stream",
     "text": [
      "(126, 7)\n"
     ]
    },
    {
     "data": {
      "text/html": [
       "<div>\n",
       "<style scoped>\n",
       "    .dataframe tbody tr th:only-of-type {\n",
       "        vertical-align: middle;\n",
       "    }\n",
       "\n",
       "    .dataframe tbody tr th {\n",
       "        vertical-align: top;\n",
       "    }\n",
       "\n",
       "    .dataframe thead th {\n",
       "        text-align: right;\n",
       "    }\n",
       "</style>\n",
       "<table border=\"1\" class=\"dataframe\">\n",
       "  <thead>\n",
       "    <tr style=\"text-align: right;\">\n",
       "      <th></th>\n",
       "      <th>id</th>\n",
       "      <th>name</th>\n",
       "      <th>type</th>\n",
       "      <th>dimension</th>\n",
       "      <th>residents</th>\n",
       "      <th>url</th>\n",
       "      <th>created</th>\n",
       "    </tr>\n",
       "  </thead>\n",
       "  <tbody>\n",
       "    <tr>\n",
       "      <th>0</th>\n",
       "      <td>1</td>\n",
       "      <td>Earth (C-137)</td>\n",
       "      <td>Planet</td>\n",
       "      <td>Dimension C-137</td>\n",
       "      <td>[https://rickandmortyapi.com/api/character/38,...</td>\n",
       "      <td>https://rickandmortyapi.com/api/location/1</td>\n",
       "      <td>2017-11-10T12:42:04.162Z</td>\n",
       "    </tr>\n",
       "    <tr>\n",
       "      <th>1</th>\n",
       "      <td>2</td>\n",
       "      <td>Abadango</td>\n",
       "      <td>Cluster</td>\n",
       "      <td>unknown</td>\n",
       "      <td>[https://rickandmortyapi.com/api/character/6]</td>\n",
       "      <td>https://rickandmortyapi.com/api/location/2</td>\n",
       "      <td>2017-11-10T13:06:38.182Z</td>\n",
       "    </tr>\n",
       "    <tr>\n",
       "      <th>2</th>\n",
       "      <td>3</td>\n",
       "      <td>Citadel of Ricks</td>\n",
       "      <td>Space station</td>\n",
       "      <td>unknown</td>\n",
       "      <td>[https://rickandmortyapi.com/api/character/8, ...</td>\n",
       "      <td>https://rickandmortyapi.com/api/location/3</td>\n",
       "      <td>2017-11-10T13:08:13.191Z</td>\n",
       "    </tr>\n",
       "    <tr>\n",
       "      <th>3</th>\n",
       "      <td>4</td>\n",
       "      <td>Worldender's lair</td>\n",
       "      <td>Planet</td>\n",
       "      <td>unknown</td>\n",
       "      <td>[https://rickandmortyapi.com/api/character/10,...</td>\n",
       "      <td>https://rickandmortyapi.com/api/location/4</td>\n",
       "      <td>2017-11-10T13:08:20.569Z</td>\n",
       "    </tr>\n",
       "    <tr>\n",
       "      <th>4</th>\n",
       "      <td>5</td>\n",
       "      <td>Anatomy Park</td>\n",
       "      <td>Microverse</td>\n",
       "      <td>Dimension C-137</td>\n",
       "      <td>[https://rickandmortyapi.com/api/character/12,...</td>\n",
       "      <td>https://rickandmortyapi.com/api/location/5</td>\n",
       "      <td>2017-11-10T13:08:46.060Z</td>\n",
       "    </tr>\n",
       "  </tbody>\n",
       "</table>\n",
       "</div>"
      ],
      "text/plain": [
       "   id               name           type        dimension  \\\n",
       "0   1      Earth (C-137)         Planet  Dimension C-137   \n",
       "1   2           Abadango        Cluster          unknown   \n",
       "2   3   Citadel of Ricks  Space station          unknown   \n",
       "3   4  Worldender's lair         Planet          unknown   \n",
       "4   5       Anatomy Park     Microverse  Dimension C-137   \n",
       "\n",
       "                                           residents  \\\n",
       "0  [https://rickandmortyapi.com/api/character/38,...   \n",
       "1      [https://rickandmortyapi.com/api/character/6]   \n",
       "2  [https://rickandmortyapi.com/api/character/8, ...   \n",
       "3  [https://rickandmortyapi.com/api/character/10,...   \n",
       "4  [https://rickandmortyapi.com/api/character/12,...   \n",
       "\n",
       "                                          url                   created  \n",
       "0  https://rickandmortyapi.com/api/location/1  2017-11-10T12:42:04.162Z  \n",
       "1  https://rickandmortyapi.com/api/location/2  2017-11-10T13:06:38.182Z  \n",
       "2  https://rickandmortyapi.com/api/location/3  2017-11-10T13:08:13.191Z  \n",
       "3  https://rickandmortyapi.com/api/location/4  2017-11-10T13:08:20.569Z  \n",
       "4  https://rickandmortyapi.com/api/location/5  2017-11-10T13:08:46.060Z  "
      ]
     },
     "execution_count": 19,
     "metadata": {},
     "output_type": "execute_result"
    }
   ],
   "source": [
    "# Load data to dataframe\n",
    "location_df = pd.DataFrame(all_data)\n",
    "\n",
    "# Shape of df\n",
    "print(location_df.shape)\n",
    "\n",
    "# Ivestigate the dataframe\n",
    "location_df.head()"
   ]
  },
  {
   "cell_type": "markdown",
   "id": "59c315b1",
   "metadata": {},
   "source": [
    "## Data Cleaning"
   ]
  },
  {
   "cell_type": "code",
   "execution_count": 20,
   "id": "8916219f",
   "metadata": {},
   "outputs": [
    {
     "data": {
      "text/html": [
       "<div>\n",
       "<style scoped>\n",
       "    .dataframe tbody tr th:only-of-type {\n",
       "        vertical-align: middle;\n",
       "    }\n",
       "\n",
       "    .dataframe tbody tr th {\n",
       "        vertical-align: top;\n",
       "    }\n",
       "\n",
       "    .dataframe thead th {\n",
       "        text-align: right;\n",
       "    }\n",
       "</style>\n",
       "<table border=\"1\" class=\"dataframe\">\n",
       "  <thead>\n",
       "    <tr style=\"text-align: right;\">\n",
       "      <th></th>\n",
       "      <th>id</th>\n",
       "      <th>name</th>\n",
       "      <th>type</th>\n",
       "      <th>dimension</th>\n",
       "      <th>url</th>\n",
       "      <th>created</th>\n",
       "      <th>residents_ids</th>\n",
       "      <th>total_residents</th>\n",
       "    </tr>\n",
       "  </thead>\n",
       "  <tbody>\n",
       "    <tr>\n",
       "      <th>0</th>\n",
       "      <td>1</td>\n",
       "      <td>Earth (C-137)</td>\n",
       "      <td>Planet</td>\n",
       "      <td>Dimension C-137</td>\n",
       "      <td>https://rickandmortyapi.com/api/location/1</td>\n",
       "      <td>2017-11-10T12:42:04.162Z</td>\n",
       "      <td>[38, 45, 71, 82, 83, 92, 112, 114, 116, 117, 1...</td>\n",
       "      <td>27</td>\n",
       "    </tr>\n",
       "    <tr>\n",
       "      <th>1</th>\n",
       "      <td>2</td>\n",
       "      <td>Abadango</td>\n",
       "      <td>Cluster</td>\n",
       "      <td>unknown</td>\n",
       "      <td>https://rickandmortyapi.com/api/location/2</td>\n",
       "      <td>2017-11-10T13:06:38.182Z</td>\n",
       "      <td>[6]</td>\n",
       "      <td>1</td>\n",
       "    </tr>\n",
       "    <tr>\n",
       "      <th>2</th>\n",
       "      <td>3</td>\n",
       "      <td>Citadel of Ricks</td>\n",
       "      <td>Space station</td>\n",
       "      <td>unknown</td>\n",
       "      <td>https://rickandmortyapi.com/api/location/3</td>\n",
       "      <td>2017-11-10T13:08:13.191Z</td>\n",
       "      <td>[8, 14, 15, 18, 21, 22, 27, 42, 43, 44, 48, 53...</td>\n",
       "      <td>101</td>\n",
       "    </tr>\n",
       "    <tr>\n",
       "      <th>3</th>\n",
       "      <td>4</td>\n",
       "      <td>Worldender's lair</td>\n",
       "      <td>Planet</td>\n",
       "      <td>unknown</td>\n",
       "      <td>https://rickandmortyapi.com/api/location/4</td>\n",
       "      <td>2017-11-10T13:08:20.569Z</td>\n",
       "      <td>[10, 81, 208, 226, 340, 362, 375, 382, 395]</td>\n",
       "      <td>9</td>\n",
       "    </tr>\n",
       "    <tr>\n",
       "      <th>4</th>\n",
       "      <td>5</td>\n",
       "      <td>Anatomy Park</td>\n",
       "      <td>Microverse</td>\n",
       "      <td>Dimension C-137</td>\n",
       "      <td>https://rickandmortyapi.com/api/location/5</td>\n",
       "      <td>2017-11-10T13:08:46.060Z</td>\n",
       "      <td>[12, 17, 96, 97, 98, 99, 100, 101, 108, 268, 300]</td>\n",
       "      <td>11</td>\n",
       "    </tr>\n",
       "  </tbody>\n",
       "</table>\n",
       "</div>"
      ],
      "text/plain": [
       "   id               name           type        dimension  \\\n",
       "0   1      Earth (C-137)         Planet  Dimension C-137   \n",
       "1   2           Abadango        Cluster          unknown   \n",
       "2   3   Citadel of Ricks  Space station          unknown   \n",
       "3   4  Worldender's lair         Planet          unknown   \n",
       "4   5       Anatomy Park     Microverse  Dimension C-137   \n",
       "\n",
       "                                          url                   created  \\\n",
       "0  https://rickandmortyapi.com/api/location/1  2017-11-10T12:42:04.162Z   \n",
       "1  https://rickandmortyapi.com/api/location/2  2017-11-10T13:06:38.182Z   \n",
       "2  https://rickandmortyapi.com/api/location/3  2017-11-10T13:08:13.191Z   \n",
       "3  https://rickandmortyapi.com/api/location/4  2017-11-10T13:08:20.569Z   \n",
       "4  https://rickandmortyapi.com/api/location/5  2017-11-10T13:08:46.060Z   \n",
       "\n",
       "                                       residents_ids  total_residents  \n",
       "0  [38, 45, 71, 82, 83, 92, 112, 114, 116, 117, 1...               27  \n",
       "1                                                [6]                1  \n",
       "2  [8, 14, 15, 18, 21, 22, 27, 42, 43, 44, 48, 53...              101  \n",
       "3        [10, 81, 208, 226, 340, 362, 375, 382, 395]                9  \n",
       "4  [12, 17, 96, 97, 98, 99, 100, 101, 108, 268, 300]               11  "
      ]
     },
     "execution_count": 20,
     "metadata": {},
     "output_type": "execute_result"
    }
   ],
   "source": [
    "# Clean the origin column\n",
    "import re\n",
    "\n",
    "# Function to extract the last digit (resident id) from each URL\n",
    "def extract_resident_numbers(resident_list):\n",
    "    if resident_list:\n",
    "        return [re.search(r'/(\\d+)$', url).group(1) for url in resident_list if re.search(r'/(\\d+)$', url)]\n",
    "    return []\n",
    "\n",
    "# Apply the function to the episodes column\n",
    "location_df['residents_ids'] = location_df['residents'].apply(extract_resident_numbers)\n",
    "location_df['total_residents'] = location_df['residents_ids'].apply(len)\n",
    "\n",
    "# Drop origin and location columns\n",
    "location_df = location_df.drop('residents', axis=1)\n",
    "\n",
    "location_df.head()"
   ]
  },
  {
   "cell_type": "code",
   "execution_count": 21,
   "id": "cacc431f",
   "metadata": {},
   "outputs": [
    {
     "data": {
      "text/html": [
       "<div>\n",
       "<style scoped>\n",
       "    .dataframe tbody tr th:only-of-type {\n",
       "        vertical-align: middle;\n",
       "    }\n",
       "\n",
       "    .dataframe tbody tr th {\n",
       "        vertical-align: top;\n",
       "    }\n",
       "\n",
       "    .dataframe thead th {\n",
       "        text-align: right;\n",
       "    }\n",
       "</style>\n",
       "<table border=\"1\" class=\"dataframe\">\n",
       "  <thead>\n",
       "    <tr style=\"text-align: right;\">\n",
       "      <th></th>\n",
       "      <th>id</th>\n",
       "      <th>name</th>\n",
       "      <th>type</th>\n",
       "      <th>dimension</th>\n",
       "      <th>residents_ids</th>\n",
       "      <th>total_residents</th>\n",
       "      <th>created</th>\n",
       "      <th>url</th>\n",
       "    </tr>\n",
       "  </thead>\n",
       "  <tbody>\n",
       "    <tr>\n",
       "      <th>0</th>\n",
       "      <td>1</td>\n",
       "      <td>Earth (C-137)</td>\n",
       "      <td>Planet</td>\n",
       "      <td>Dimension C-137</td>\n",
       "      <td>[38, 45, 71, 82, 83, 92, 112, 114, 116, 117, 1...</td>\n",
       "      <td>27</td>\n",
       "      <td>2017-11-10T12:42:04.162Z</td>\n",
       "      <td>https://rickandmortyapi.com/api/location/1</td>\n",
       "    </tr>\n",
       "    <tr>\n",
       "      <th>1</th>\n",
       "      <td>2</td>\n",
       "      <td>Abadango</td>\n",
       "      <td>Cluster</td>\n",
       "      <td>unknown</td>\n",
       "      <td>[6]</td>\n",
       "      <td>1</td>\n",
       "      <td>2017-11-10T13:06:38.182Z</td>\n",
       "      <td>https://rickandmortyapi.com/api/location/2</td>\n",
       "    </tr>\n",
       "    <tr>\n",
       "      <th>2</th>\n",
       "      <td>3</td>\n",
       "      <td>Citadel of Ricks</td>\n",
       "      <td>Space station</td>\n",
       "      <td>unknown</td>\n",
       "      <td>[8, 14, 15, 18, 21, 22, 27, 42, 43, 44, 48, 53...</td>\n",
       "      <td>101</td>\n",
       "      <td>2017-11-10T13:08:13.191Z</td>\n",
       "      <td>https://rickandmortyapi.com/api/location/3</td>\n",
       "    </tr>\n",
       "    <tr>\n",
       "      <th>3</th>\n",
       "      <td>4</td>\n",
       "      <td>Worldender's lair</td>\n",
       "      <td>Planet</td>\n",
       "      <td>unknown</td>\n",
       "      <td>[10, 81, 208, 226, 340, 362, 375, 382, 395]</td>\n",
       "      <td>9</td>\n",
       "      <td>2017-11-10T13:08:20.569Z</td>\n",
       "      <td>https://rickandmortyapi.com/api/location/4</td>\n",
       "    </tr>\n",
       "    <tr>\n",
       "      <th>4</th>\n",
       "      <td>5</td>\n",
       "      <td>Anatomy Park</td>\n",
       "      <td>Microverse</td>\n",
       "      <td>Dimension C-137</td>\n",
       "      <td>[12, 17, 96, 97, 98, 99, 100, 101, 108, 268, 300]</td>\n",
       "      <td>11</td>\n",
       "      <td>2017-11-10T13:08:46.060Z</td>\n",
       "      <td>https://rickandmortyapi.com/api/location/5</td>\n",
       "    </tr>\n",
       "  </tbody>\n",
       "</table>\n",
       "</div>"
      ],
      "text/plain": [
       "   id               name           type        dimension  \\\n",
       "0   1      Earth (C-137)         Planet  Dimension C-137   \n",
       "1   2           Abadango        Cluster          unknown   \n",
       "2   3   Citadel of Ricks  Space station          unknown   \n",
       "3   4  Worldender's lair         Planet          unknown   \n",
       "4   5       Anatomy Park     Microverse  Dimension C-137   \n",
       "\n",
       "                                       residents_ids  total_residents  \\\n",
       "0  [38, 45, 71, 82, 83, 92, 112, 114, 116, 117, 1...               27   \n",
       "1                                                [6]                1   \n",
       "2  [8, 14, 15, 18, 21, 22, 27, 42, 43, 44, 48, 53...              101   \n",
       "3        [10, 81, 208, 226, 340, 362, 375, 382, 395]                9   \n",
       "4  [12, 17, 96, 97, 98, 99, 100, 101, 108, 268, 300]               11   \n",
       "\n",
       "                    created                                         url  \n",
       "0  2017-11-10T12:42:04.162Z  https://rickandmortyapi.com/api/location/1  \n",
       "1  2017-11-10T13:06:38.182Z  https://rickandmortyapi.com/api/location/2  \n",
       "2  2017-11-10T13:08:13.191Z  https://rickandmortyapi.com/api/location/3  \n",
       "3  2017-11-10T13:08:20.569Z  https://rickandmortyapi.com/api/location/4  \n",
       "4  2017-11-10T13:08:46.060Z  https://rickandmortyapi.com/api/location/5  "
      ]
     },
     "execution_count": 21,
     "metadata": {},
     "output_type": "execute_result"
    }
   ],
   "source": [
    "# Reorder columns\n",
    "location_df = location_df[location_df.columns[[0, 1, 2, 3, 6, 7, 5, 4]]]\n",
    "\n",
    "location_df.head()"
   ]
  },
  {
   "cell_type": "markdown",
   "id": "ffae4ede",
   "metadata": {},
   "source": [
    "## EDA - Exploratory Data Analysis"
   ]
  },
  {
   "cell_type": "code",
   "execution_count": 24,
   "id": "69c1e04f",
   "metadata": {},
   "outputs": [],
   "source": [
    "# import visulaization libraries\n",
    "import matplotlib.pyplot as plt\n",
    "import seaborn as sns\n",
    "%matplotlib inline"
   ]
  },
  {
   "cell_type": "code",
   "execution_count": 29,
   "id": "87bf28f7",
   "metadata": {
    "scrolled": true
   },
   "outputs": [
    {
     "data": {
      "text/plain": [
       "Planet           62\n",
       "Space station     7\n",
       "Dimension         4\n",
       "Microverse        3\n",
       "Name: type, dtype: int64"
      ]
     },
     "execution_count": 29,
     "metadata": {},
     "output_type": "execute_result"
    }
   ],
   "source": [
    "# Location type value count\n",
    "type_of_loc = location_df['type'].value_counts().head(4)\n",
    "type_of_loc"
   ]
  },
  {
   "cell_type": "code",
   "execution_count": 32,
   "id": "c6f6b0a7",
   "metadata": {},
   "outputs": [
    {
     "data": {
      "image/png": "[encoded data removed]",
      "text/plain": [
       "<Figure size 432x288 with 1 Axes>"
      ]
     },
     "metadata": {
      "needs_background": "light"
     },
     "output_type": "display_data"
    }
   ],
   "source": [
    "# Plot a bar plot showing the status\n",
    "ax = sns.barplot(x=type_of_loc.index, y=type_of_loc.values)\n",
    "\n",
    "# Set the xtick labels\n",
    "ax.set_xticklabels(type_of_loc.index)\n",
    "ax.set_title('Top 4 Types of Locations');"
   ]
  },
  {
   "cell_type": "markdown",
   "id": "b0821691",
   "metadata": {},
   "source": [
    "### Top 10 charcater episode appearances"
   ]
  },
  {
   "cell_type": "code",
   "execution_count": 28,
   "id": "465ebfbb",
   "metadata": {},
   "outputs": [
    {
     "data": {
      "text/html": [
       "<div>\n",
       "<style scoped>\n",
       "    .dataframe tbody tr th:only-of-type {\n",
       "        vertical-align: middle;\n",
       "    }\n",
       "\n",
       "    .dataframe tbody tr th {\n",
       "        vertical-align: top;\n",
       "    }\n",
       "\n",
       "    .dataframe thead th {\n",
       "        text-align: right;\n",
       "    }\n",
       "</style>\n",
       "<table border=\"1\" class=\"dataframe\">\n",
       "  <thead>\n",
       "    <tr style=\"text-align: right;\">\n",
       "      <th></th>\n",
       "      <th>name</th>\n",
       "      <th>total_residents</th>\n",
       "    </tr>\n",
       "  </thead>\n",
       "  <tbody>\n",
       "    <tr>\n",
       "      <th>19</th>\n",
       "      <td>Earth (Replacement Dimension)</td>\n",
       "      <td>230</td>\n",
       "    </tr>\n",
       "    <tr>\n",
       "      <th>2</th>\n",
       "      <td>Citadel of Ricks</td>\n",
       "      <td>101</td>\n",
       "    </tr>\n",
       "    <tr>\n",
       "      <th>5</th>\n",
       "      <td>Interdimensional Cable</td>\n",
       "      <td>62</td>\n",
       "    </tr>\n",
       "    <tr>\n",
       "      <th>0</th>\n",
       "      <td>Earth (C-137)</td>\n",
       "      <td>27</td>\n",
       "    </tr>\n",
       "    <tr>\n",
       "      <th>95</th>\n",
       "      <td>Story Train</td>\n",
       "      <td>27</td>\n",
       "    </tr>\n",
       "    <tr>\n",
       "      <th>77</th>\n",
       "      <td>Snake Planet</td>\n",
       "      <td>15</td>\n",
       "    </tr>\n",
       "    <tr>\n",
       "      <th>12</th>\n",
       "      <td>Nuptia 4</td>\n",
       "      <td>11</td>\n",
       "    </tr>\n",
       "    <tr>\n",
       "      <th>109</th>\n",
       "      <td>Narnia Dimension</td>\n",
       "      <td>11</td>\n",
       "    </tr>\n",
       "    <tr>\n",
       "      <th>34</th>\n",
       "      <td>Planet Squanch</td>\n",
       "      <td>11</td>\n",
       "    </tr>\n",
       "    <tr>\n",
       "      <th>125</th>\n",
       "      <td>Rick's Memories</td>\n",
       "      <td>11</td>\n",
       "    </tr>\n",
       "  </tbody>\n",
       "</table>\n",
       "</div>"
      ],
      "text/plain": [
       "                              name  total_residents\n",
       "19   Earth (Replacement Dimension)              230\n",
       "2                 Citadel of Ricks              101\n",
       "5           Interdimensional Cable               62\n",
       "0                    Earth (C-137)               27\n",
       "95                     Story Train               27\n",
       "77                    Snake Planet               15\n",
       "12                        Nuptia 4               11\n",
       "109               Narnia Dimension               11\n",
       "34                  Planet Squanch               11\n",
       "125                Rick's Memories               11"
      ]
     },
     "execution_count": 28,
     "metadata": {},
     "output_type": "execute_result"
    }
   ],
   "source": [
    "# Sort the DataFrame by 'total_episodes' in descending order\n",
    "sorted_df = location_df.sort_values(by='total_residents', ascending=False)\n",
    "\n",
    "# Select the top 10 characters\n",
    "top_10_locations = sorted_df.head(10)\n",
    "\n",
    "# Display the result\n",
    "top_10_locations[['name', 'total_residents']]\n"
   ]
  },
  {
   "cell_type": "code",
   "execution_count": 36,
   "id": "985b1e24",
   "metadata": {},
   "outputs": [
    {
     "name": "stdout",
     "output_type": "stream",
     "text": [
      "File Uploaded Succesfully\n"
     ]
    }
   ],
   "source": [
    "import os\n",
    "from io import StringIO\n",
    "\n",
    "#Creating Session With Boto3.\n",
    "session = boto3.Session(\n",
    "aws_access_key_id=os.getenv('aws_access_key_id'),\n",
    "aws_secret_access_key=os.getenv('aws_secret_access_key')\n",
    ")\n",
    "\n",
    "# Convert DataFrame to CSV string\n",
    "csv_buffer = StringIO()\n",
    "location_df.to_csv(csv_buffer, index=False)\n",
    "\n",
    "# Get current timestamp\n",
    "timestamp = datetime.datetime.now()\n",
    "\n",
    "year = str(timestamp.year)\n",
    "month = str(timestamp.month).zfill(2)\n",
    "day = str(timestamp.day).zfill(2)\n",
    "hour = str(timestamp.hour).zfill(2)\n",
    "minute = str(timestamp.minute).zfill(2)\n",
    "\n",
    "#Creating S3 Resource From the Session.\n",
    "s3 = session.resource('s3')\n",
    "\n",
    "# Write data to s3\n",
    "result = s3.meta.client.put_object(Body=csv_buffer.getvalue(), \n",
    "                                   Bucket='rick-and-morty-de',\n",
    "                                   Key=f'rick_and_morty/Location/{year}/{month}/{day}/{hour}/{minute}/location.csv')\n",
    "\n",
    "res = result.get('ResponseMetadata')\n",
    "\n",
    "if res.get('HTTPStatusCode') == 200:\n",
    "    print('File Uploaded Succesfully')\n",
    "else:\n",
    "    print('File Not Uploaded')"
   ]
  },
  {
   "cell_type": "code",
   "execution_count": null,
   "id": "8be3404c",
   "metadata": {},
   "outputs": [],
   "source": []
  }
 ],
 "metadata": {
  "kernelspec": {
   "display_name": "Python (learn-env)",
   "language": "python",
   "name": "learn-env"
  },
  "language_info": {
   "codemirror_mode": {
    "name": "ipython",
    "version": 3
   },
   "file_extension": ".py",
   "mimetype": "text/x-python",
   "name": "python",
   "nbconvert_exporter": "python",
   "pygments_lexer": "ipython3",
   "version": "3.8.5"
  }
 },
 "nbformat": 4,
 "nbformat_minor": 5
}
