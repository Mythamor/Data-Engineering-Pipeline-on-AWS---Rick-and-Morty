{
 "cells": [
  {
   "cell_type": "markdown",
   "id": "cfa15955",
   "metadata": {},
   "source": [
    "# The Rick and Morty API"
   ]
  },
  {
   "cell_type": "code",
   "execution_count": 113,
   "id": "330f57f7",
   "metadata": {},
   "outputs": [],
   "source": [
    "# Import libraries\n",
    "import pandas as pd\n",
    "import requests\n",
    "import json\n",
    "import datetime\n",
    "\n",
    "# S3 imports\n",
    "import boto3"
   ]
  },
  {
   "cell_type": "code",
   "execution_count": 27,
   "id": "dfe0eafc",
   "metadata": {},
   "outputs": [
    {
     "name": "stdout",
     "output_type": "stream",
     "text": [
      "dict_keys(['info', 'results'])\n"
     ]
    }
   ],
   "source": [
    "# Fetch character data from api\n",
    "url = \"https://rickandmortyapi.com/api/character\"\n",
    "\n",
    "response = requests.get(url)\n",
    "data = response.json()\n",
    "\n",
    "print(data.keys())"
   ]
  },
  {
   "cell_type": "code",
   "execution_count": 28,
   "id": "87c840c0",
   "metadata": {},
   "outputs": [
    {
     "data": {
      "text/plain": [
       "{'count': 826,\n",
       " 'pages': 42,\n",
       " 'next': 'https://rickandmortyapi.com/api/character?page=2',\n",
       " 'prev': None}"
      ]
     },
     "execution_count": 28,
     "metadata": {},
     "output_type": "execute_result"
    }
   ],
   "source": [
    "# Analyze the info key\n",
    "data['info']"
   ]
  },
  {
   "cell_type": "code",
   "execution_count": 11,
   "id": "e4b5047d",
   "metadata": {},
   "outputs": [
    {
     "name": "stdout",
     "output_type": "stream",
     "text": [
      "20\n"
     ]
    },
    {
     "data": {
      "text/plain": [
       "{'id': 1,\n",
       " 'name': 'Rick Sanchez',\n",
       " 'status': 'Alive',\n",
       " 'species': 'Human',\n",
       " 'type': '',\n",
       " 'gender': 'Male',\n",
       " 'origin': {'name': 'Earth (C-137)',\n",
       "  'url': 'https://rickandmortyapi.com/api/location/1'},\n",
       " 'location': {'name': 'Citadel of Ricks',\n",
       "  'url': 'https://rickandmortyapi.com/api/location/3'},\n",
       " 'image': 'https://rickandmortyapi.com/api/character/avatar/1.jpeg',\n",
       " 'episode': ['https://rickandmortyapi.com/api/episode/1',\n",
       "  'https://rickandmortyapi.com/api/episode/2',\n",
       "  'https://rickandmortyapi.com/api/episode/3',\n",
       "  'https://rickandmortyapi.com/api/episode/4',\n",
       "  'https://rickandmortyapi.com/api/episode/5',\n",
       "  'https://rickandmortyapi.com/api/episode/6',\n",
       "  'https://rickandmortyapi.com/api/episode/7',\n",
       "  'https://rickandmortyapi.com/api/episode/8',\n",
       "  'https://rickandmortyapi.com/api/episode/9',\n",
       "  'https://rickandmortyapi.com/api/episode/10',\n",
       "  'https://rickandmortyapi.com/api/episode/11',\n",
       "  'https://rickandmortyapi.com/api/episode/12',\n",
       "  'https://rickandmortyapi.com/api/episode/13',\n",
       "  'https://rickandmortyapi.com/api/episode/14',\n",
       "  'https://rickandmortyapi.com/api/episode/15',\n",
       "  'https://rickandmortyapi.com/api/episode/16',\n",
       "  'https://rickandmortyapi.com/api/episode/17',\n",
       "  'https://rickandmortyapi.com/api/episode/18',\n",
       "  'https://rickandmortyapi.com/api/episode/19',\n",
       "  'https://rickandmortyapi.com/api/episode/20',\n",
       "  'https://rickandmortyapi.com/api/episode/21',\n",
       "  'https://rickandmortyapi.com/api/episode/22',\n",
       "  'https://rickandmortyapi.com/api/episode/23',\n",
       "  'https://rickandmortyapi.com/api/episode/24',\n",
       "  'https://rickandmortyapi.com/api/episode/25',\n",
       "  'https://rickandmortyapi.com/api/episode/26',\n",
       "  'https://rickandmortyapi.com/api/episode/27',\n",
       "  'https://rickandmortyapi.com/api/episode/28',\n",
       "  'https://rickandmortyapi.com/api/episode/29',\n",
       "  'https://rickandmortyapi.com/api/episode/30',\n",
       "  'https://rickandmortyapi.com/api/episode/31',\n",
       "  'https://rickandmortyapi.com/api/episode/32',\n",
       "  'https://rickandmortyapi.com/api/episode/33',\n",
       "  'https://rickandmortyapi.com/api/episode/34',\n",
       "  'https://rickandmortyapi.com/api/episode/35',\n",
       "  'https://rickandmortyapi.com/api/episode/36',\n",
       "  'https://rickandmortyapi.com/api/episode/37',\n",
       "  'https://rickandmortyapi.com/api/episode/38',\n",
       "  'https://rickandmortyapi.com/api/episode/39',\n",
       "  'https://rickandmortyapi.com/api/episode/40',\n",
       "  'https://rickandmortyapi.com/api/episode/41',\n",
       "  'https://rickandmortyapi.com/api/episode/42',\n",
       "  'https://rickandmortyapi.com/api/episode/43',\n",
       "  'https://rickandmortyapi.com/api/episode/44',\n",
       "  'https://rickandmortyapi.com/api/episode/45',\n",
       "  'https://rickandmortyapi.com/api/episode/46',\n",
       "  'https://rickandmortyapi.com/api/episode/47',\n",
       "  'https://rickandmortyapi.com/api/episode/48',\n",
       "  'https://rickandmortyapi.com/api/episode/49',\n",
       "  'https://rickandmortyapi.com/api/episode/50',\n",
       "  'https://rickandmortyapi.com/api/episode/51'],\n",
       " 'url': 'https://rickandmortyapi.com/api/character/1',\n",
       " 'created': '2017-11-04T18:48:46.250Z'}"
      ]
     },
     "execution_count": 11,
     "metadata": {},
     "output_type": "execute_result"
    }
   ],
   "source": [
    "# Analyze the result key\n",
    "print(len(data['results']))\n",
    "data['results'][0]"
   ]
  },
  {
   "cell_type": "code",
   "execution_count": 35,
   "id": "f61cc1fc",
   "metadata": {},
   "outputs": [
    {
     "name": "stderr",
     "output_type": "stream",
     "text": [
      "Extracting Page 42: : 42it [00:22,  1.88it/s]"
     ]
    },
    {
     "name": "stdout",
     "output_type": "stream",
     "text": [
      "Data succedssfully extracted!\n"
     ]
    },
    {
     "name": "stderr",
     "output_type": "stream",
     "text": [
      "\n"
     ]
    }
   ],
   "source": [
    "# Function to write data to a dataframe\n",
    "from tqdm import tqdm\n",
    "import time\n",
    "\n",
    "all_data = []\n",
    "page = 1\n",
    "\n",
    "# Initialize the progress bar\n",
    "with tqdm(desc=\"Extracting Pages\", ncols=100, ascii=True) as pbar:\n",
    "    while True:\n",
    "        # Update the progress bar description with the current page\n",
    "        pbar.set_description(f\"Extracting Page {page}\")\n",
    "        \n",
    "        # Make the API request\n",
    "        response = requests.get(f'https://rickandmortyapi.com/api/character?page={str(page)}')\n",
    "        data = response.json().get('results', [])\n",
    "        \n",
    "        # Collect data\n",
    "        all_data.extend(data)\n",
    "        \n",
    "        # Update the progress bar (increment by 1 page)\n",
    "        pbar.update(1)\n",
    "        \n",
    "        # Check if there is a next page\n",
    "        if response.json().get('info', {}).get('next') is not None:\n",
    "            page += 1\n",
    "        else:\n",
    "            break\n",
    "\n",
    "    print('Data successfully extracted!')"
   ]
  },
  {
   "cell_type": "code",
   "execution_count": 68,
   "id": "2a76ef24",
   "metadata": {},
   "outputs": [
    {
     "name": "stdout",
     "output_type": "stream",
     "text": [
      "(826, 12)\n"
     ]
    },
    {
     "data": {
      "text/html": [
       "<div>\n",
       "<style scoped>\n",
       "    .dataframe tbody tr th:only-of-type {\n",
       "        vertical-align: middle;\n",
       "    }\n",
       "\n",
       "    .dataframe tbody tr th {\n",
       "        vertical-align: top;\n",
       "    }\n",
       "\n",
       "    .dataframe thead th {\n",
       "        text-align: right;\n",
       "    }\n",
       "</style>\n",
       "<table border=\"1\" class=\"dataframe\">\n",
       "  <thead>\n",
       "    <tr style=\"text-align: right;\">\n",
       "      <th></th>\n",
       "      <th>id</th>\n",
       "      <th>name</th>\n",
       "      <th>status</th>\n",
       "      <th>species</th>\n",
       "      <th>type</th>\n",
       "      <th>gender</th>\n",
       "      <th>origin</th>\n",
       "      <th>location</th>\n",
       "      <th>image</th>\n",
       "      <th>episode</th>\n",
       "      <th>url</th>\n",
       "      <th>created</th>\n",
       "    </tr>\n",
       "  </thead>\n",
       "  <tbody>\n",
       "    <tr>\n",
       "      <th>0</th>\n",
       "      <td>1</td>\n",
       "      <td>Rick Sanchez</td>\n",
       "      <td>Alive</td>\n",
       "      <td>Human</td>\n",
       "      <td></td>\n",
       "      <td>Male</td>\n",
       "      <td>{'name': 'Earth (C-137)', 'url': 'https://rick...</td>\n",
       "      <td>{'name': 'Citadel of Ricks', 'url': 'https://r...</td>\n",
       "      <td>https://rickandmortyapi.com/api/character/avat...</td>\n",
       "      <td>[https://rickandmortyapi.com/api/episode/1, ht...</td>\n",
       "      <td>https://rickandmortyapi.com/api/character/1</td>\n",
       "      <td>2017-11-04T18:48:46.250Z</td>\n",
       "    </tr>\n",
       "    <tr>\n",
       "      <th>1</th>\n",
       "      <td>2</td>\n",
       "      <td>Morty Smith</td>\n",
       "      <td>Alive</td>\n",
       "      <td>Human</td>\n",
       "      <td></td>\n",
       "      <td>Male</td>\n",
       "      <td>{'name': 'unknown', 'url': ''}</td>\n",
       "      <td>{'name': 'Citadel of Ricks', 'url': 'https://r...</td>\n",
       "      <td>https://rickandmortyapi.com/api/character/avat...</td>\n",
       "      <td>[https://rickandmortyapi.com/api/episode/1, ht...</td>\n",
       "      <td>https://rickandmortyapi.com/api/character/2</td>\n",
       "      <td>2017-11-04T18:50:21.651Z</td>\n",
       "    </tr>\n",
       "    <tr>\n",
       "      <th>2</th>\n",
       "      <td>3</td>\n",
       "      <td>Summer Smith</td>\n",
       "      <td>Alive</td>\n",
       "      <td>Human</td>\n",
       "      <td></td>\n",
       "      <td>Female</td>\n",
       "      <td>{'name': 'Earth (Replacement Dimension)', 'url...</td>\n",
       "      <td>{'name': 'Earth (Replacement Dimension)', 'url...</td>\n",
       "      <td>https://rickandmortyapi.com/api/character/avat...</td>\n",
       "      <td>[https://rickandmortyapi.com/api/episode/6, ht...</td>\n",
       "      <td>https://rickandmortyapi.com/api/character/3</td>\n",
       "      <td>2017-11-04T19:09:56.428Z</td>\n",
       "    </tr>\n",
       "    <tr>\n",
       "      <th>3</th>\n",
       "      <td>4</td>\n",
       "      <td>Beth Smith</td>\n",
       "      <td>Alive</td>\n",
       "      <td>Human</td>\n",
       "      <td></td>\n",
       "      <td>Female</td>\n",
       "      <td>{'name': 'Earth (Replacement Dimension)', 'url...</td>\n",
       "      <td>{'name': 'Earth (Replacement Dimension)', 'url...</td>\n",
       "      <td>https://rickandmortyapi.com/api/character/avat...</td>\n",
       "      <td>[https://rickandmortyapi.com/api/episode/6, ht...</td>\n",
       "      <td>https://rickandmortyapi.com/api/character/4</td>\n",
       "      <td>2017-11-04T19:22:43.665Z</td>\n",
       "    </tr>\n",
       "    <tr>\n",
       "      <th>4</th>\n",
       "      <td>5</td>\n",
       "      <td>Jerry Smith</td>\n",
       "      <td>Alive</td>\n",
       "      <td>Human</td>\n",
       "      <td></td>\n",
       "      <td>Male</td>\n",
       "      <td>{'name': 'Earth (Replacement Dimension)', 'url...</td>\n",
       "      <td>{'name': 'Earth (Replacement Dimension)', 'url...</td>\n",
       "      <td>https://rickandmortyapi.com/api/character/avat...</td>\n",
       "      <td>[https://rickandmortyapi.com/api/episode/6, ht...</td>\n",
       "      <td>https://rickandmortyapi.com/api/character/5</td>\n",
       "      <td>2017-11-04T19:26:56.301Z</td>\n",
       "    </tr>\n",
       "  </tbody>\n",
       "</table>\n",
       "</div>"
      ],
      "text/plain": [
       "   id          name status species type  gender  \\\n",
       "0   1  Rick Sanchez  Alive   Human         Male   \n",
       "1   2   Morty Smith  Alive   Human         Male   \n",
       "2   3  Summer Smith  Alive   Human       Female   \n",
       "3   4    Beth Smith  Alive   Human       Female   \n",
       "4   5   Jerry Smith  Alive   Human         Male   \n",
       "\n",
       "                                              origin  \\\n",
       "0  {'name': 'Earth (C-137)', 'url': 'https://rick...   \n",
       "1                     {'name': 'unknown', 'url': ''}   \n",
       "2  {'name': 'Earth (Replacement Dimension)', 'url...   \n",
       "3  {'name': 'Earth (Replacement Dimension)', 'url...   \n",
       "4  {'name': 'Earth (Replacement Dimension)', 'url...   \n",
       "\n",
       "                                            location  \\\n",
       "0  {'name': 'Citadel of Ricks', 'url': 'https://r...   \n",
       "1  {'name': 'Citadel of Ricks', 'url': 'https://r...   \n",
       "2  {'name': 'Earth (Replacement Dimension)', 'url...   \n",
       "3  {'name': 'Earth (Replacement Dimension)', 'url...   \n",
       "4  {'name': 'Earth (Replacement Dimension)', 'url...   \n",
       "\n",
       "                                               image  \\\n",
       "0  https://rickandmortyapi.com/api/character/avat...   \n",
       "1  https://rickandmortyapi.com/api/character/avat...   \n",
       "2  https://rickandmortyapi.com/api/character/avat...   \n",
       "3  https://rickandmortyapi.com/api/character/avat...   \n",
       "4  https://rickandmortyapi.com/api/character/avat...   \n",
       "\n",
       "                                             episode  \\\n",
       "0  [https://rickandmortyapi.com/api/episode/1, ht...   \n",
       "1  [https://rickandmortyapi.com/api/episode/1, ht...   \n",
       "2  [https://rickandmortyapi.com/api/episode/6, ht...   \n",
       "3  [https://rickandmortyapi.com/api/episode/6, ht...   \n",
       "4  [https://rickandmortyapi.com/api/episode/6, ht...   \n",
       "\n",
       "                                           url                   created  \n",
       "0  https://rickandmortyapi.com/api/character/1  2017-11-04T18:48:46.250Z  \n",
       "1  https://rickandmortyapi.com/api/character/2  2017-11-04T18:50:21.651Z  \n",
       "2  https://rickandmortyapi.com/api/character/3  2017-11-04T19:09:56.428Z  \n",
       "3  https://rickandmortyapi.com/api/character/4  2017-11-04T19:22:43.665Z  \n",
       "4  https://rickandmortyapi.com/api/character/5  2017-11-04T19:26:56.301Z  "
      ]
     },
     "execution_count": 68,
     "metadata": {},
     "output_type": "execute_result"
    }
   ],
   "source": [
    "# Load data to dataframe\n",
    "characters_df = pd.DataFrame(all_data)\n",
    "\n",
    "# Shape of df\n",
    "print(characters_df.shape)\n",
    "\n",
    "# Ivestigate the dataframe\n",
    "characters_df.head()"
   ]
  },
  {
   "cell_type": "code",
   "execution_count": 40,
   "id": "a148236f",
   "metadata": {},
   "outputs": [
    {
     "data": {
      "text/plain": [
       "'Earth (C-137)'"
      ]
     },
     "execution_count": 40,
     "metadata": {},
     "output_type": "execute_result"
    }
   ],
   "source": [
    "characters_df.iloc[0]['origin'].get('name')"
   ]
  },
  {
   "cell_type": "code",
   "execution_count": 54,
   "id": "2958c72c",
   "metadata": {},
   "outputs": [
    {
     "data": {
      "text/plain": [
       "['https://rickandmortyapi.com/api/episode/1',\n",
       " 'https://rickandmortyapi.com/api/episode/2',\n",
       " 'https://rickandmortyapi.com/api/episode/3',\n",
       " 'https://rickandmortyapi.com/api/episode/4',\n",
       " 'https://rickandmortyapi.com/api/episode/5',\n",
       " 'https://rickandmortyapi.com/api/episode/6',\n",
       " 'https://rickandmortyapi.com/api/episode/7',\n",
       " 'https://rickandmortyapi.com/api/episode/8',\n",
       " 'https://rickandmortyapi.com/api/episode/9',\n",
       " 'https://rickandmortyapi.com/api/episode/10',\n",
       " 'https://rickandmortyapi.com/api/episode/11',\n",
       " 'https://rickandmortyapi.com/api/episode/12',\n",
       " 'https://rickandmortyapi.com/api/episode/13',\n",
       " 'https://rickandmortyapi.com/api/episode/14',\n",
       " 'https://rickandmortyapi.com/api/episode/15',\n",
       " 'https://rickandmortyapi.com/api/episode/16',\n",
       " 'https://rickandmortyapi.com/api/episode/17',\n",
       " 'https://rickandmortyapi.com/api/episode/18',\n",
       " 'https://rickandmortyapi.com/api/episode/19',\n",
       " 'https://rickandmortyapi.com/api/episode/20',\n",
       " 'https://rickandmortyapi.com/api/episode/21',\n",
       " 'https://rickandmortyapi.com/api/episode/22',\n",
       " 'https://rickandmortyapi.com/api/episode/23',\n",
       " 'https://rickandmortyapi.com/api/episode/24',\n",
       " 'https://rickandmortyapi.com/api/episode/25',\n",
       " 'https://rickandmortyapi.com/api/episode/26',\n",
       " 'https://rickandmortyapi.com/api/episode/27',\n",
       " 'https://rickandmortyapi.com/api/episode/28',\n",
       " 'https://rickandmortyapi.com/api/episode/29',\n",
       " 'https://rickandmortyapi.com/api/episode/30',\n",
       " 'https://rickandmortyapi.com/api/episode/31',\n",
       " 'https://rickandmortyapi.com/api/episode/32',\n",
       " 'https://rickandmortyapi.com/api/episode/33',\n",
       " 'https://rickandmortyapi.com/api/episode/34',\n",
       " 'https://rickandmortyapi.com/api/episode/35',\n",
       " 'https://rickandmortyapi.com/api/episode/36',\n",
       " 'https://rickandmortyapi.com/api/episode/37',\n",
       " 'https://rickandmortyapi.com/api/episode/38',\n",
       " 'https://rickandmortyapi.com/api/episode/39',\n",
       " 'https://rickandmortyapi.com/api/episode/40',\n",
       " 'https://rickandmortyapi.com/api/episode/41',\n",
       " 'https://rickandmortyapi.com/api/episode/42',\n",
       " 'https://rickandmortyapi.com/api/episode/43',\n",
       " 'https://rickandmortyapi.com/api/episode/44',\n",
       " 'https://rickandmortyapi.com/api/episode/45',\n",
       " 'https://rickandmortyapi.com/api/episode/46',\n",
       " 'https://rickandmortyapi.com/api/episode/47',\n",
       " 'https://rickandmortyapi.com/api/episode/48',\n",
       " 'https://rickandmortyapi.com/api/episode/49',\n",
       " 'https://rickandmortyapi.com/api/episode/50',\n",
       " 'https://rickandmortyapi.com/api/episode/51']"
      ]
     },
     "execution_count": 54,
     "metadata": {},
     "output_type": "execute_result"
    }
   ],
   "source": [
    "characters_df.iloc[1]['episode']"
   ]
  },
  {
   "cell_type": "markdown",
   "id": "2c57fd47",
   "metadata": {},
   "source": [
    "## Data Cleaning"
   ]
  },
  {
   "cell_type": "code",
   "execution_count": 69,
   "id": "93b241d1",
   "metadata": {},
   "outputs": [
    {
     "data": {
      "text/html": [
       "<div>\n",
       "<style scoped>\n",
       "    .dataframe tbody tr th:only-of-type {\n",
       "        vertical-align: middle;\n",
       "    }\n",
       "\n",
       "    .dataframe tbody tr th {\n",
       "        vertical-align: top;\n",
       "    }\n",
       "\n",
       "    .dataframe thead th {\n",
       "        text-align: right;\n",
       "    }\n",
       "</style>\n",
       "<table border=\"1\" class=\"dataframe\">\n",
       "  <thead>\n",
       "    <tr style=\"text-align: right;\">\n",
       "      <th></th>\n",
       "      <th>id</th>\n",
       "      <th>name</th>\n",
       "      <th>status</th>\n",
       "      <th>species</th>\n",
       "      <th>type</th>\n",
       "      <th>gender</th>\n",
       "      <th>image</th>\n",
       "      <th>url</th>\n",
       "      <th>created</th>\n",
       "      <th>origin_name</th>\n",
       "      <th>location_name</th>\n",
       "      <th>origin_id</th>\n",
       "      <th>location_id</th>\n",
       "      <th>episode_ids</th>\n",
       "      <th>total_episodes</th>\n",
       "    </tr>\n",
       "  </thead>\n",
       "  <tbody>\n",
       "    <tr>\n",
       "      <th>0</th>\n",
       "      <td>1</td>\n",
       "      <td>Rick Sanchez</td>\n",
       "      <td>Alive</td>\n",
       "      <td>Human</td>\n",
       "      <td></td>\n",
       "      <td>Male</td>\n",
       "      <td>https://rickandmortyapi.com/api/character/avat...</td>\n",
       "      <td>https://rickandmortyapi.com/api/character/1</td>\n",
       "      <td>2017-11-04T18:48:46.250Z</td>\n",
       "      <td>Earth (C-137)</td>\n",
       "      <td>Citadel of Ricks</td>\n",
       "      <td>1</td>\n",
       "      <td>1</td>\n",
       "      <td>[1, 2, 3, 4, 5, 6, 7, 8, 9, 10, 11, 12, 13, 14...</td>\n",
       "      <td>51</td>\n",
       "    </tr>\n",
       "    <tr>\n",
       "      <th>1</th>\n",
       "      <td>2</td>\n",
       "      <td>Morty Smith</td>\n",
       "      <td>Alive</td>\n",
       "      <td>Human</td>\n",
       "      <td></td>\n",
       "      <td>Male</td>\n",
       "      <td>https://rickandmortyapi.com/api/character/avat...</td>\n",
       "      <td>https://rickandmortyapi.com/api/character/2</td>\n",
       "      <td>2017-11-04T18:50:21.651Z</td>\n",
       "      <td>unknown</td>\n",
       "      <td>Citadel of Ricks</td>\n",
       "      <td>None</td>\n",
       "      <td>None</td>\n",
       "      <td>[1, 2, 3, 4, 5, 6, 7, 8, 9, 10, 11, 12, 13, 14...</td>\n",
       "      <td>51</td>\n",
       "    </tr>\n",
       "    <tr>\n",
       "      <th>2</th>\n",
       "      <td>3</td>\n",
       "      <td>Summer Smith</td>\n",
       "      <td>Alive</td>\n",
       "      <td>Human</td>\n",
       "      <td></td>\n",
       "      <td>Female</td>\n",
       "      <td>https://rickandmortyapi.com/api/character/avat...</td>\n",
       "      <td>https://rickandmortyapi.com/api/character/3</td>\n",
       "      <td>2017-11-04T19:09:56.428Z</td>\n",
       "      <td>Earth (Replacement Dimension)</td>\n",
       "      <td>Earth (Replacement Dimension)</td>\n",
       "      <td>20</td>\n",
       "      <td>20</td>\n",
       "      <td>[6, 7, 8, 9, 10, 11, 12, 14, 15, 16, 17, 18, 1...</td>\n",
       "      <td>42</td>\n",
       "    </tr>\n",
       "    <tr>\n",
       "      <th>3</th>\n",
       "      <td>4</td>\n",
       "      <td>Beth Smith</td>\n",
       "      <td>Alive</td>\n",
       "      <td>Human</td>\n",
       "      <td></td>\n",
       "      <td>Female</td>\n",
       "      <td>https://rickandmortyapi.com/api/character/avat...</td>\n",
       "      <td>https://rickandmortyapi.com/api/character/4</td>\n",
       "      <td>2017-11-04T19:22:43.665Z</td>\n",
       "      <td>Earth (Replacement Dimension)</td>\n",
       "      <td>Earth (Replacement Dimension)</td>\n",
       "      <td>20</td>\n",
       "      <td>20</td>\n",
       "      <td>[6, 7, 8, 9, 10, 11, 12, 14, 15, 16, 18, 19, 2...</td>\n",
       "      <td>42</td>\n",
       "    </tr>\n",
       "    <tr>\n",
       "      <th>4</th>\n",
       "      <td>5</td>\n",
       "      <td>Jerry Smith</td>\n",
       "      <td>Alive</td>\n",
       "      <td>Human</td>\n",
       "      <td></td>\n",
       "      <td>Male</td>\n",
       "      <td>https://rickandmortyapi.com/api/character/avat...</td>\n",
       "      <td>https://rickandmortyapi.com/api/character/5</td>\n",
       "      <td>2017-11-04T19:26:56.301Z</td>\n",
       "      <td>Earth (Replacement Dimension)</td>\n",
       "      <td>Earth (Replacement Dimension)</td>\n",
       "      <td>20</td>\n",
       "      <td>20</td>\n",
       "      <td>[6, 7, 8, 9, 10, 11, 12, 13, 14, 15, 16, 18, 1...</td>\n",
       "      <td>39</td>\n",
       "    </tr>\n",
       "  </tbody>\n",
       "</table>\n",
       "</div>"
      ],
      "text/plain": [
       "   id          name status species type  gender  \\\n",
       "0   1  Rick Sanchez  Alive   Human         Male   \n",
       "1   2   Morty Smith  Alive   Human         Male   \n",
       "2   3  Summer Smith  Alive   Human       Female   \n",
       "3   4    Beth Smith  Alive   Human       Female   \n",
       "4   5   Jerry Smith  Alive   Human         Male   \n",
       "\n",
       "                                               image  \\\n",
       "0  https://rickandmortyapi.com/api/character/avat...   \n",
       "1  https://rickandmortyapi.com/api/character/avat...   \n",
       "2  https://rickandmortyapi.com/api/character/avat...   \n",
       "3  https://rickandmortyapi.com/api/character/avat...   \n",
       "4  https://rickandmortyapi.com/api/character/avat...   \n",
       "\n",
       "                                           url                   created  \\\n",
       "0  https://rickandmortyapi.com/api/character/1  2017-11-04T18:48:46.250Z   \n",
       "1  https://rickandmortyapi.com/api/character/2  2017-11-04T18:50:21.651Z   \n",
       "2  https://rickandmortyapi.com/api/character/3  2017-11-04T19:09:56.428Z   \n",
       "3  https://rickandmortyapi.com/api/character/4  2017-11-04T19:22:43.665Z   \n",
       "4  https://rickandmortyapi.com/api/character/5  2017-11-04T19:26:56.301Z   \n",
       "\n",
       "                     origin_name                  location_name origin_id  \\\n",
       "0                  Earth (C-137)               Citadel of Ricks         1   \n",
       "1                        unknown               Citadel of Ricks      None   \n",
       "2  Earth (Replacement Dimension)  Earth (Replacement Dimension)        20   \n",
       "3  Earth (Replacement Dimension)  Earth (Replacement Dimension)        20   \n",
       "4  Earth (Replacement Dimension)  Earth (Replacement Dimension)        20   \n",
       "\n",
       "  location_id                                        episode_ids  \\\n",
       "0           1  [1, 2, 3, 4, 5, 6, 7, 8, 9, 10, 11, 12, 13, 14...   \n",
       "1        None  [1, 2, 3, 4, 5, 6, 7, 8, 9, 10, 11, 12, 13, 14...   \n",
       "2          20  [6, 7, 8, 9, 10, 11, 12, 14, 15, 16, 17, 18, 1...   \n",
       "3          20  [6, 7, 8, 9, 10, 11, 12, 14, 15, 16, 18, 19, 2...   \n",
       "4          20  [6, 7, 8, 9, 10, 11, 12, 13, 14, 15, 16, 18, 1...   \n",
       "\n",
       "   total_episodes  \n",
       "0              51  \n",
       "1              51  \n",
       "2              42  \n",
       "3              42  \n",
       "4              39  "
      ]
     },
     "execution_count": 69,
     "metadata": {},
     "output_type": "execute_result"
    }
   ],
   "source": [
    "# Clean the origin column\n",
    "import re\n",
    "\n",
    "# Extract origin name and loaction name\n",
    "characters_df['origin_name'] = characters_df['origin'].apply(lambda x: x['name'])\n",
    "characters_df['location_name'] = characters_df['location'].apply(lambda x: x['name'])\n",
    "\n",
    "# Extract 'origin id' with conditional check\n",
    "def extract_id(url):\n",
    "    if url:\n",
    "        match = re.search(r'/(\\d+)$', url)\n",
    "        return match.group(1) if match else None\n",
    "    return None\n",
    "\n",
    "# Extract origin, location\n",
    "characters_df['origin_id'] = characters_df['origin'].apply(lambda x:  extract_id(x['url']) if x else None)\n",
    "characters_df['location_id'] = characters_df['origin'].apply(lambda x:  extract_id(x['url']) if x else None)\n",
    "\n",
    "\n",
    "# Function to extract the last digit (episode id) from each URL\n",
    "def extract_episode_numbers(episode_list):\n",
    "    if episode_list:\n",
    "        return [re.search(r'/(\\d+)$', url).group(1) for url in episode_list if re.search(r'/(\\d+)$', url)]\n",
    "    return []\n",
    "\n",
    "# Apply the function to the episodes column\n",
    "characters_df['episode_ids'] = characters_df['episode'].apply(extract_episode_numbers)\n",
    "characters_df['total_episodes'] = characters_df['episode_ids'].apply(len)\n",
    "\n",
    "# Drop origin and location columns\n",
    "characters_df = characters_df.drop(['origin', 'location', 'episode'], axis=1, )\n",
    "\n",
    "characters_df.head()"
   ]
  },
  {
   "cell_type": "code",
   "execution_count": 90,
   "id": "4ff4d056",
   "metadata": {},
   "outputs": [
    {
     "data": {
      "text/plain": [
       "Index(['id', 'name', 'status', 'species', 'type', 'gender', 'image', 'url',\n",
       "       'created', 'origin_name', 'location_name', 'origin_id', 'location_id',\n",
       "       'episode_ids', 'total_episodes'],\n",
       "      dtype='object')"
      ]
     },
     "execution_count": 90,
     "metadata": {},
     "output_type": "execute_result"
    }
   ],
   "source": [
    "characters_df.columns"
   ]
  },
  {
   "cell_type": "code",
   "execution_count": 96,
   "id": "fc17f140",
   "metadata": {},
   "outputs": [
    {
     "data": {
      "text/html": [
       "<div>\n",
       "<style scoped>\n",
       "    .dataframe tbody tr th:only-of-type {\n",
       "        vertical-align: middle;\n",
       "    }\n",
       "\n",
       "    .dataframe tbody tr th {\n",
       "        vertical-align: top;\n",
       "    }\n",
       "\n",
       "    .dataframe thead th {\n",
       "        text-align: right;\n",
       "    }\n",
       "</style>\n",
       "<table border=\"1\" class=\"dataframe\">\n",
       "  <thead>\n",
       "    <tr style=\"text-align: right;\">\n",
       "      <th></th>\n",
       "      <th>id</th>\n",
       "      <th>name</th>\n",
       "      <th>status</th>\n",
       "      <th>species</th>\n",
       "      <th>gender</th>\n",
       "      <th>created</th>\n",
       "      <th>image</th>\n",
       "      <th>url</th>\n",
       "      <th>location_name</th>\n",
       "      <th>origin_id</th>\n",
       "      <th>origin_name</th>\n",
       "      <th>episode_ids</th>\n",
       "      <th>total_episodes</th>\n",
       "      <th>location_id</th>\n",
       "    </tr>\n",
       "  </thead>\n",
       "  <tbody>\n",
       "    <tr>\n",
       "      <th>0</th>\n",
       "      <td>1</td>\n",
       "      <td>Rick Sanchez</td>\n",
       "      <td>Alive</td>\n",
       "      <td>Human</td>\n",
       "      <td>Male</td>\n",
       "      <td>2017-11-04T18:48:46.250Z</td>\n",
       "      <td>https://rickandmortyapi.com/api/character/avat...</td>\n",
       "      <td>https://rickandmortyapi.com/api/character/1</td>\n",
       "      <td>Citadel of Ricks</td>\n",
       "      <td>1</td>\n",
       "      <td>Earth (C-137)</td>\n",
       "      <td>[1, 2, 3, 4, 5, 6, 7, 8, 9, 10, 11, 12, 13, 14...</td>\n",
       "      <td>51</td>\n",
       "      <td>1</td>\n",
       "    </tr>\n",
       "    <tr>\n",
       "      <th>1</th>\n",
       "      <td>2</td>\n",
       "      <td>Morty Smith</td>\n",
       "      <td>Alive</td>\n",
       "      <td>Human</td>\n",
       "      <td>Male</td>\n",
       "      <td>2017-11-04T18:50:21.651Z</td>\n",
       "      <td>https://rickandmortyapi.com/api/character/avat...</td>\n",
       "      <td>https://rickandmortyapi.com/api/character/2</td>\n",
       "      <td>Citadel of Ricks</td>\n",
       "      <td>None</td>\n",
       "      <td>unknown</td>\n",
       "      <td>[1, 2, 3, 4, 5, 6, 7, 8, 9, 10, 11, 12, 13, 14...</td>\n",
       "      <td>51</td>\n",
       "      <td>None</td>\n",
       "    </tr>\n",
       "    <tr>\n",
       "      <th>2</th>\n",
       "      <td>3</td>\n",
       "      <td>Summer Smith</td>\n",
       "      <td>Alive</td>\n",
       "      <td>Human</td>\n",
       "      <td>Female</td>\n",
       "      <td>2017-11-04T19:09:56.428Z</td>\n",
       "      <td>https://rickandmortyapi.com/api/character/avat...</td>\n",
       "      <td>https://rickandmortyapi.com/api/character/3</td>\n",
       "      <td>Earth (Replacement Dimension)</td>\n",
       "      <td>20</td>\n",
       "      <td>Earth (Replacement Dimension)</td>\n",
       "      <td>[6, 7, 8, 9, 10, 11, 12, 14, 15, 16, 17, 18, 1...</td>\n",
       "      <td>42</td>\n",
       "      <td>20</td>\n",
       "    </tr>\n",
       "    <tr>\n",
       "      <th>3</th>\n",
       "      <td>4</td>\n",
       "      <td>Beth Smith</td>\n",
       "      <td>Alive</td>\n",
       "      <td>Human</td>\n",
       "      <td>Female</td>\n",
       "      <td>2017-11-04T19:22:43.665Z</td>\n",
       "      <td>https://rickandmortyapi.com/api/character/avat...</td>\n",
       "      <td>https://rickandmortyapi.com/api/character/4</td>\n",
       "      <td>Earth (Replacement Dimension)</td>\n",
       "      <td>20</td>\n",
       "      <td>Earth (Replacement Dimension)</td>\n",
       "      <td>[6, 7, 8, 9, 10, 11, 12, 14, 15, 16, 18, 19, 2...</td>\n",
       "      <td>42</td>\n",
       "      <td>20</td>\n",
       "    </tr>\n",
       "    <tr>\n",
       "      <th>4</th>\n",
       "      <td>5</td>\n",
       "      <td>Jerry Smith</td>\n",
       "      <td>Alive</td>\n",
       "      <td>Human</td>\n",
       "      <td>Male</td>\n",
       "      <td>2017-11-04T19:26:56.301Z</td>\n",
       "      <td>https://rickandmortyapi.com/api/character/avat...</td>\n",
       "      <td>https://rickandmortyapi.com/api/character/5</td>\n",
       "      <td>Earth (Replacement Dimension)</td>\n",
       "      <td>20</td>\n",
       "      <td>Earth (Replacement Dimension)</td>\n",
       "      <td>[6, 7, 8, 9, 10, 11, 12, 13, 14, 15, 16, 18, 1...</td>\n",
       "      <td>39</td>\n",
       "      <td>20</td>\n",
       "    </tr>\n",
       "  </tbody>\n",
       "</table>\n",
       "</div>"
      ],
      "text/plain": [
       "   id          name status species  gender                   created  \\\n",
       "0   1  Rick Sanchez  Alive   Human    Male  2017-11-04T18:48:46.250Z   \n",
       "1   2   Morty Smith  Alive   Human    Male  2017-11-04T18:50:21.651Z   \n",
       "2   3  Summer Smith  Alive   Human  Female  2017-11-04T19:09:56.428Z   \n",
       "3   4    Beth Smith  Alive   Human  Female  2017-11-04T19:22:43.665Z   \n",
       "4   5   Jerry Smith  Alive   Human    Male  2017-11-04T19:26:56.301Z   \n",
       "\n",
       "                                               image  \\\n",
       "0  https://rickandmortyapi.com/api/character/avat...   \n",
       "1  https://rickandmortyapi.com/api/character/avat...   \n",
       "2  https://rickandmortyapi.com/api/character/avat...   \n",
       "3  https://rickandmortyapi.com/api/character/avat...   \n",
       "4  https://rickandmortyapi.com/api/character/avat...   \n",
       "\n",
       "                                           url                  location_name  \\\n",
       "0  https://rickandmortyapi.com/api/character/1               Citadel of Ricks   \n",
       "1  https://rickandmortyapi.com/api/character/2               Citadel of Ricks   \n",
       "2  https://rickandmortyapi.com/api/character/3  Earth (Replacement Dimension)   \n",
       "3  https://rickandmortyapi.com/api/character/4  Earth (Replacement Dimension)   \n",
       "4  https://rickandmortyapi.com/api/character/5  Earth (Replacement Dimension)   \n",
       "\n",
       "  origin_id                    origin_name  \\\n",
       "0         1                  Earth (C-137)   \n",
       "1      None                        unknown   \n",
       "2        20  Earth (Replacement Dimension)   \n",
       "3        20  Earth (Replacement Dimension)   \n",
       "4        20  Earth (Replacement Dimension)   \n",
       "\n",
       "                                         episode_ids  total_episodes  \\\n",
       "0  [1, 2, 3, 4, 5, 6, 7, 8, 9, 10, 11, 12, 13, 14...              51   \n",
       "1  [1, 2, 3, 4, 5, 6, 7, 8, 9, 10, 11, 12, 13, 14...              51   \n",
       "2  [6, 7, 8, 9, 10, 11, 12, 14, 15, 16, 17, 18, 1...              42   \n",
       "3  [6, 7, 8, 9, 10, 11, 12, 14, 15, 16, 18, 19, 2...              42   \n",
       "4  [6, 7, 8, 9, 10, 11, 12, 13, 14, 15, 16, 18, 1...              39   \n",
       "\n",
       "  location_id  \n",
       "0           1  \n",
       "1        None  \n",
       "2          20  \n",
       "3          20  \n",
       "4          20  "
      ]
     },
     "execution_count": 96,
     "metadata": {},
     "output_type": "execute_result"
    }
   ],
   "source": [
    "# Rearrange the columns\n",
    "characters_df = characters_df[characters_df.columns[[0, 1, 2, 3, 4, 5, 9, 11, \n",
    "                                                    10, 12, 13, 14, 8, 7, 6]]]\n",
    "\n",
    "# Drop the type column(empty)\n",
    "characters_df = characters_df.drop('type', axis=1)\n",
    "\n",
    "characters_df.head()"
   ]
  },
  {
   "cell_type": "markdown",
   "id": "169213b9",
   "metadata": {},
   "source": [
    "## EDA - Exploratory Data Analysis"
   ]
  },
  {
   "cell_type": "code",
   "execution_count": 110,
   "id": "7f039652",
   "metadata": {},
   "outputs": [],
   "source": [
    "# import visulaization libraries\n",
    "import matplotlib.pyplot as plt\n",
    "import seaborn as sns\n",
    "%matplotlib inline\n",
    "\n",
    "# Set default figure size for Seaborn plots\n",
    "sns.set_context(\"notebook\", rc={\"figure.figsize\": (12, 6)})"
   ]
  },
  {
   "cell_type": "code",
   "execution_count": 111,
   "id": "813cbfad",
   "metadata": {
    "scrolled": true
   },
   "outputs": [
    {
     "data": {
      "text/plain": [
       "Alive      439\n",
       "Dead       287\n",
       "unknown    100\n",
       "Name: status, dtype: int64"
      ]
     },
     "execution_count": 111,
     "metadata": {},
     "output_type": "execute_result"
    }
   ],
   "source": [
    "# Status value count\n",
    "status = characters_df['status'].value_counts().head()\n",
    "status"
   ]
  },
  {
   "cell_type": "code",
   "execution_count": 112,
   "id": "3d49ecd9",
   "metadata": {},
   "outputs": [
    {
     "data": {
      "image/png": "[encoded data removed]",
      "text/plain": [
       "<Figure size 432x288 with 1 Axes>"
      ]
     },
     "metadata": {
      "needs_background": "light"
     },
     "output_type": "display_data"
    }
   ],
   "source": [
    "# Plot a bar plot showing the status\n",
    "ax = sns.barplot(x=status.index, y=status.values)\n",
    "\n",
    "# Set the xtick labels\n",
    "ax.set_xticklabels(status.index)\n",
    "ax.set_title('Status categorical distribution');"
   ]
  },
  {
   "cell_type": "markdown",
   "id": "a7f4b7ae",
   "metadata": {},
   "source": [
    "### Top 10 charcater episode appearances"
   ]
  },
  {
   "cell_type": "code",
   "execution_count": 89,
   "id": "62b9183f",
   "metadata": {},
   "outputs": [
    {
     "data": {
      "text/html": [
       "<div>\n",
       "<style scoped>\n",
       "    .dataframe tbody tr th:only-of-type {\n",
       "        vertical-align: middle;\n",
       "    }\n",
       "\n",
       "    .dataframe tbody tr th {\n",
       "        vertical-align: top;\n",
       "    }\n",
       "\n",
       "    .dataframe thead th {\n",
       "        text-align: right;\n",
       "    }\n",
       "</style>\n",
       "<table border=\"1\" class=\"dataframe\">\n",
       "  <thead>\n",
       "    <tr style=\"text-align: right;\">\n",
       "      <th></th>\n",
       "      <th>name</th>\n",
       "      <th>total_episodes</th>\n",
       "    </tr>\n",
       "  </thead>\n",
       "  <tbody>\n",
       "    <tr>\n",
       "      <th>0</th>\n",
       "      <td>Rick Sanchez</td>\n",
       "      <td>51</td>\n",
       "    </tr>\n",
       "    <tr>\n",
       "      <th>1</th>\n",
       "      <td>Morty Smith</td>\n",
       "      <td>51</td>\n",
       "    </tr>\n",
       "    <tr>\n",
       "      <th>2</th>\n",
       "      <td>Summer Smith</td>\n",
       "      <td>42</td>\n",
       "    </tr>\n",
       "    <tr>\n",
       "      <th>3</th>\n",
       "      <td>Beth Smith</td>\n",
       "      <td>42</td>\n",
       "    </tr>\n",
       "    <tr>\n",
       "      <th>4</th>\n",
       "      <td>Jerry Smith</td>\n",
       "      <td>39</td>\n",
       "    </tr>\n",
       "    <tr>\n",
       "      <th>179</th>\n",
       "      <td>Jessica</td>\n",
       "      <td>12</td>\n",
       "    </tr>\n",
       "    <tr>\n",
       "      <th>239</th>\n",
       "      <td>Mr. Goldenfold</td>\n",
       "      <td>10</td>\n",
       "    </tr>\n",
       "    <tr>\n",
       "      <th>37</th>\n",
       "      <td>Beth Smith</td>\n",
       "      <td>8</td>\n",
       "    </tr>\n",
       "    <tr>\n",
       "      <th>328</th>\n",
       "      <td>Snuffles (Snowball)</td>\n",
       "      <td>8</td>\n",
       "    </tr>\n",
       "    <tr>\n",
       "      <th>180</th>\n",
       "      <td>Jessica's Friend</td>\n",
       "      <td>8</td>\n",
       "    </tr>\n",
       "  </tbody>\n",
       "</table>\n",
       "</div>"
      ],
      "text/plain": [
       "                    name  total_episodes\n",
       "0           Rick Sanchez              51\n",
       "1            Morty Smith              51\n",
       "2           Summer Smith              42\n",
       "3             Beth Smith              42\n",
       "4            Jerry Smith              39\n",
       "179              Jessica              12\n",
       "239       Mr. Goldenfold              10\n",
       "37            Beth Smith               8\n",
       "328  Snuffles (Snowball)               8\n",
       "180     Jessica's Friend               8"
      ]
     },
     "execution_count": 89,
     "metadata": {},
     "output_type": "execute_result"
    }
   ],
   "source": [
    "# Sort the DataFrame by 'total_episodes' in descending order\n",
    "sorted_df = characters_df.sort_values(by='total_episodes', ascending=False)\n",
    "\n",
    "# Select the top 10 characters\n",
    "top_10_characters = sorted_df.head(10)\n",
    "\n",
    "# Display the result\n",
    "top_10_characters[['name', 'total_episodes']]\n"
   ]
  },
  {
   "cell_type": "markdown",
   "id": "3c23f13a",
   "metadata": {},
   "source": [
    "## Load data to AWS S3 bucket"
   ]
  },
  {
   "cell_type": "code",
   "execution_count": 127,
   "id": "fd711d48",
   "metadata": {},
   "outputs": [
    {
     "name": "stdout",
     "output_type": "stream",
     "text": [
      "File Uploaded Succesfully\n"
     ]
    }
   ],
   "source": [
    "import os\n",
    "from io import StringIO\n",
    "\n",
    "#Creating Session With Boto3.\n",
    "session = boto3.Session(\n",
    "aws_access_key_id=os.getenv('aws_access_key_id'),\n",
    "aws_secret_access_key=os.getenv('aws_secret_access_key')\n",
    ")\n",
    "\n",
    "# Convert DataFrame to CSV string\n",
    "csv_buffer = StringIO()\n",
    "characters_df.to_csv(csv_buffer, index=False)\n",
    "\n",
    "# Get current timestamp\n",
    "timestamp = datetime.datetime.now()\n",
    "\n",
    "year = str(timestamp.year)\n",
    "month = str(timestamp.month).zfill(2)\n",
    "day = str(timestamp.day).zfill(2)\n",
    "hour = str(timestamp.hour).zfill(2)\n",
    "minute = str(timestamp.minute).zfill(2)\n",
    "\n",
    "#Creating S3 Resource From the Session.\n",
    "s3 = session.resource('s3')\n",
    "\n",
    "# Write data to s3\n",
    "result = s3.meta.client.put_object(Body=csv_buffer.getvalue(), \n",
    "                                   Bucket='rick-and-morty-de',\n",
    "                                   Key=f'rick_and_morty/Character/{year}/{month}/{day}/{hour}/{minute}/character.csv')\n",
    "\n",
    "res = result.get('ResponseMetadata')\n",
    "\n",
    "if res.get('HTTPStatusCode') == 200:\n",
    "    print('File Uploaded Succesfully')\n",
    "else:\n",
    "    print('File Not Uploaded')"
   ]
  },
  {
   "cell_type": "code",
   "execution_count": 114,
   "id": "ae11db57",
   "metadata": {},
   "outputs": [],
   "source": [
    "t = datetime.datetime.now()"
   ]
  },
  {
   "cell_type": "code",
   "execution_count": 115,
   "id": "8bceb95c",
   "metadata": {},
   "outputs": [
    {
     "data": {
      "text/plain": [
       "datetime.datetime(2024, 8, 19, 23, 14, 3, 107652)"
      ]
     },
     "execution_count": 115,
     "metadata": {},
     "output_type": "execute_result"
    }
   ],
   "source": [
    "t"
   ]
  },
  {
   "cell_type": "code",
   "execution_count": 120,
   "id": "1703a697",
   "metadata": {},
   "outputs": [
    {
     "data": {
      "text/plain": [
       "'08'"
      ]
     },
     "execution_count": 120,
     "metadata": {},
     "output_type": "execute_result"
    }
   ],
   "source": [
    "str(t.month).zfill(2)"
   ]
  },
  {
   "cell_type": "code",
   "execution_count": null,
   "id": "c2ee9c5a",
   "metadata": {},
   "outputs": [],
   "source": []
  }
 ],
 "metadata": {
  "kernelspec": {
   "display_name": "Python (learn-env)",
   "language": "python",
   "name": "learn-env"
  },
  "language_info": {
   "codemirror_mode": {
    "name": "ipython",
    "version": 3
   },
   "file_extension": ".py",
   "mimetype": "text/x-python",
   "name": "python",
   "nbconvert_exporter": "python",
   "pygments_lexer": "ipython3",
   "version": "3.8.5"
  }
 },
 "nbformat": 4,
 "nbformat_minor": 5
}
