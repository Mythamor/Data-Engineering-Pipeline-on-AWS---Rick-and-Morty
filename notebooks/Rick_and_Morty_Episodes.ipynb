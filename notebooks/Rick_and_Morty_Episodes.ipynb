{
 "cells": [
  {
   "cell_type": "markdown",
   "id": "081e5ea8",
   "metadata": {},
   "source": [
    "# The Rick and Morty API"
   ]
  },
  {
   "cell_type": "code",
   "execution_count": 17,
   "id": "144534be",
   "metadata": {},
   "outputs": [],
   "source": [
    "# Import libraries\n",
    "import pandas as pd\n",
    "import requests\n",
    "import json\n",
    "import datetime\n",
    "\n",
    "# S3 imports\n",
    "import boto3"
   ]
  },
  {
   "cell_type": "code",
   "execution_count": 2,
   "id": "862e8470",
   "metadata": {},
   "outputs": [
    {
     "name": "stdout",
     "output_type": "stream",
     "text": [
      "dict_keys(['info', 'results'])\n"
     ]
    }
   ],
   "source": [
    "# Fetch character data from api\n",
    "url = \"https://rickandmortyapi.com/api/episode\"\n",
    "\n",
    "response = requests.get(url)\n",
    "data = response.json()\n",
    "\n",
    "print(data.keys())"
   ]
  },
  {
   "cell_type": "code",
   "execution_count": 3,
   "id": "e9531d45",
   "metadata": {},
   "outputs": [
    {
     "data": {
      "text/plain": [
       "{'count': 51,\n",
       " 'pages': 3,\n",
       " 'next': 'https://rickandmortyapi.com/api/episode?page=2',\n",
       " 'prev': None}"
      ]
     },
     "execution_count": 3,
     "metadata": {},
     "output_type": "execute_result"
    }
   ],
   "source": [
    "# Analyze the info key\n",
    "data['info']"
   ]
  },
  {
   "cell_type": "code",
   "execution_count": 4,
   "id": "dccbb595",
   "metadata": {},
   "outputs": [
    {
     "name": "stdout",
     "output_type": "stream",
     "text": [
      "20\n"
     ]
    },
    {
     "data": {
      "text/plain": [
       "{'id': 1,\n",
       " 'name': 'Pilot',\n",
       " 'air_date': 'December 2, 2013',\n",
       " 'episode': 'S01E01',\n",
       " 'characters': ['https://rickandmortyapi.com/api/character/1',\n",
       "  'https://rickandmortyapi.com/api/character/2',\n",
       "  'https://rickandmortyapi.com/api/character/35',\n",
       "  'https://rickandmortyapi.com/api/character/38',\n",
       "  'https://rickandmortyapi.com/api/character/62',\n",
       "  'https://rickandmortyapi.com/api/character/92',\n",
       "  'https://rickandmortyapi.com/api/character/127',\n",
       "  'https://rickandmortyapi.com/api/character/144',\n",
       "  'https://rickandmortyapi.com/api/character/158',\n",
       "  'https://rickandmortyapi.com/api/character/175',\n",
       "  'https://rickandmortyapi.com/api/character/179',\n",
       "  'https://rickandmortyapi.com/api/character/181',\n",
       "  'https://rickandmortyapi.com/api/character/239',\n",
       "  'https://rickandmortyapi.com/api/character/249',\n",
       "  'https://rickandmortyapi.com/api/character/271',\n",
       "  'https://rickandmortyapi.com/api/character/338',\n",
       "  'https://rickandmortyapi.com/api/character/394',\n",
       "  'https://rickandmortyapi.com/api/character/395',\n",
       "  'https://rickandmortyapi.com/api/character/435'],\n",
       " 'url': 'https://rickandmortyapi.com/api/episode/1',\n",
       " 'created': '2017-11-10T12:56:33.798Z'}"
      ]
     },
     "execution_count": 4,
     "metadata": {},
     "output_type": "execute_result"
    }
   ],
   "source": [
    "# Analyze the result key\n",
    "print(len(data['results']))\n",
    "data['results'][0]"
   ]
  },
  {
   "cell_type": "code",
   "execution_count": 7,
   "id": "b80826e7",
   "metadata": {},
   "outputs": [
    {
     "name": "stderr",
     "output_type": "stream",
     "text": [
      "Extracting Page 3: : 3it [00:02,  1.49it/s]"
     ]
    },
    {
     "name": "stdout",
     "output_type": "stream",
     "text": [
      "Data successfully extracted!\n"
     ]
    },
    {
     "name": "stderr",
     "output_type": "stream",
     "text": [
      "\n"
     ]
    }
   ],
   "source": [
    "# Function to write data to a dataframe\n",
    "from tqdm import tqdm\n",
    "import time\n",
    "\n",
    "all_data = []\n",
    "page = 1\n",
    "\n",
    "# Initialize the progress bar\n",
    "with tqdm(desc=\"Extracting Pages\", ncols=100, ascii=True) as pbar:\n",
    "    while True:\n",
    "        # Update the progress bar description with the current page\n",
    "        pbar.set_description(f\"Extracting Page {page}\")\n",
    "        \n",
    "        # Make the API request\n",
    "        response = requests.get(f'https://rickandmortyapi.com/api/episode?page={str(page)}')\n",
    "        data = response.json().get('results', [])\n",
    "        \n",
    "        # Collect data\n",
    "        all_data.extend(data)\n",
    "        \n",
    "        # Update the progress bar (increment by 1 page)\n",
    "        pbar.update(1)\n",
    "        \n",
    "        # Check if there is a next page\n",
    "        if response.json().get('info', {}).get('next') is not None:\n",
    "            page += 1\n",
    "        else:\n",
    "            break\n",
    "\n",
    "    print('Data successfully extracted!')"
   ]
  },
  {
   "cell_type": "code",
   "execution_count": 8,
   "id": "94bbdfa7",
   "metadata": {},
   "outputs": [
    {
     "name": "stdout",
     "output_type": "stream",
     "text": [
      "(51, 7)\n"
     ]
    },
    {
     "data": {
      "text/html": [
       "<div>\n",
       "<style scoped>\n",
       "    .dataframe tbody tr th:only-of-type {\n",
       "        vertical-align: middle;\n",
       "    }\n",
       "\n",
       "    .dataframe tbody tr th {\n",
       "        vertical-align: top;\n",
       "    }\n",
       "\n",
       "    .dataframe thead th {\n",
       "        text-align: right;\n",
       "    }\n",
       "</style>\n",
       "<table border=\"1\" class=\"dataframe\">\n",
       "  <thead>\n",
       "    <tr style=\"text-align: right;\">\n",
       "      <th></th>\n",
       "      <th>id</th>\n",
       "      <th>name</th>\n",
       "      <th>air_date</th>\n",
       "      <th>episode</th>\n",
       "      <th>characters</th>\n",
       "      <th>url</th>\n",
       "      <th>created</th>\n",
       "    </tr>\n",
       "  </thead>\n",
       "  <tbody>\n",
       "    <tr>\n",
       "      <th>0</th>\n",
       "      <td>1</td>\n",
       "      <td>Pilot</td>\n",
       "      <td>December 2, 2013</td>\n",
       "      <td>S01E01</td>\n",
       "      <td>[https://rickandmortyapi.com/api/character/1, ...</td>\n",
       "      <td>https://rickandmortyapi.com/api/episode/1</td>\n",
       "      <td>2017-11-10T12:56:33.798Z</td>\n",
       "    </tr>\n",
       "    <tr>\n",
       "      <th>1</th>\n",
       "      <td>2</td>\n",
       "      <td>Lawnmower Dog</td>\n",
       "      <td>December 9, 2013</td>\n",
       "      <td>S01E02</td>\n",
       "      <td>[https://rickandmortyapi.com/api/character/1, ...</td>\n",
       "      <td>https://rickandmortyapi.com/api/episode/2</td>\n",
       "      <td>2017-11-10T12:56:33.916Z</td>\n",
       "    </tr>\n",
       "    <tr>\n",
       "      <th>2</th>\n",
       "      <td>3</td>\n",
       "      <td>Anatomy Park</td>\n",
       "      <td>December 16, 2013</td>\n",
       "      <td>S01E03</td>\n",
       "      <td>[https://rickandmortyapi.com/api/character/1, ...</td>\n",
       "      <td>https://rickandmortyapi.com/api/episode/3</td>\n",
       "      <td>2017-11-10T12:56:34.022Z</td>\n",
       "    </tr>\n",
       "    <tr>\n",
       "      <th>3</th>\n",
       "      <td>4</td>\n",
       "      <td>M. Night Shaym-Aliens!</td>\n",
       "      <td>January 13, 2014</td>\n",
       "      <td>S01E04</td>\n",
       "      <td>[https://rickandmortyapi.com/api/character/1, ...</td>\n",
       "      <td>https://rickandmortyapi.com/api/episode/4</td>\n",
       "      <td>2017-11-10T12:56:34.129Z</td>\n",
       "    </tr>\n",
       "    <tr>\n",
       "      <th>4</th>\n",
       "      <td>5</td>\n",
       "      <td>Meeseeks and Destroy</td>\n",
       "      <td>January 20, 2014</td>\n",
       "      <td>S01E05</td>\n",
       "      <td>[https://rickandmortyapi.com/api/character/1, ...</td>\n",
       "      <td>https://rickandmortyapi.com/api/episode/5</td>\n",
       "      <td>2017-11-10T12:56:34.236Z</td>\n",
       "    </tr>\n",
       "  </tbody>\n",
       "</table>\n",
       "</div>"
      ],
      "text/plain": [
       "   id                    name           air_date episode  \\\n",
       "0   1                   Pilot   December 2, 2013  S01E01   \n",
       "1   2           Lawnmower Dog   December 9, 2013  S01E02   \n",
       "2   3            Anatomy Park  December 16, 2013  S01E03   \n",
       "3   4  M. Night Shaym-Aliens!   January 13, 2014  S01E04   \n",
       "4   5    Meeseeks and Destroy   January 20, 2014  S01E05   \n",
       "\n",
       "                                          characters  \\\n",
       "0  [https://rickandmortyapi.com/api/character/1, ...   \n",
       "1  [https://rickandmortyapi.com/api/character/1, ...   \n",
       "2  [https://rickandmortyapi.com/api/character/1, ...   \n",
       "3  [https://rickandmortyapi.com/api/character/1, ...   \n",
       "4  [https://rickandmortyapi.com/api/character/1, ...   \n",
       "\n",
       "                                         url                   created  \n",
       "0  https://rickandmortyapi.com/api/episode/1  2017-11-10T12:56:33.798Z  \n",
       "1  https://rickandmortyapi.com/api/episode/2  2017-11-10T12:56:33.916Z  \n",
       "2  https://rickandmortyapi.com/api/episode/3  2017-11-10T12:56:34.022Z  \n",
       "3  https://rickandmortyapi.com/api/episode/4  2017-11-10T12:56:34.129Z  \n",
       "4  https://rickandmortyapi.com/api/episode/5  2017-11-10T12:56:34.236Z  "
      ]
     },
     "execution_count": 8,
     "metadata": {},
     "output_type": "execute_result"
    }
   ],
   "source": [
    "# Load data to dataframe\n",
    "episodes_df = pd.DataFrame(all_data)\n",
    "\n",
    "# Shape of df\n",
    "print(episodes_df.shape)\n",
    "\n",
    "# Ivestigate the dataframe\n",
    "episodes_df.head()"
   ]
  },
  {
   "cell_type": "markdown",
   "id": "59c315b1",
   "metadata": {},
   "source": [
    "## Data Cleaning"
   ]
  },
  {
   "cell_type": "code",
   "execution_count": 11,
   "id": "8916219f",
   "metadata": {},
   "outputs": [
    {
     "data": {
      "text/html": [
       "<div>\n",
       "<style scoped>\n",
       "    .dataframe tbody tr th:only-of-type {\n",
       "        vertical-align: middle;\n",
       "    }\n",
       "\n",
       "    .dataframe tbody tr th {\n",
       "        vertical-align: top;\n",
       "    }\n",
       "\n",
       "    .dataframe thead th {\n",
       "        text-align: right;\n",
       "    }\n",
       "</style>\n",
       "<table border=\"1\" class=\"dataframe\">\n",
       "  <thead>\n",
       "    <tr style=\"text-align: right;\">\n",
       "      <th></th>\n",
       "      <th>id</th>\n",
       "      <th>name</th>\n",
       "      <th>air_date</th>\n",
       "      <th>episode</th>\n",
       "      <th>url</th>\n",
       "      <th>created</th>\n",
       "      <th>character_ids</th>\n",
       "      <th>total_characters</th>\n",
       "    </tr>\n",
       "  </thead>\n",
       "  <tbody>\n",
       "    <tr>\n",
       "      <th>0</th>\n",
       "      <td>1</td>\n",
       "      <td>Pilot</td>\n",
       "      <td>December 2, 2013</td>\n",
       "      <td>S01E01</td>\n",
       "      <td>https://rickandmortyapi.com/api/episode/1</td>\n",
       "      <td>2017-11-10T12:56:33.798Z</td>\n",
       "      <td>[1, 2, 35, 38, 62, 92, 127, 144, 158, 175, 179...</td>\n",
       "      <td>19</td>\n",
       "    </tr>\n",
       "    <tr>\n",
       "      <th>1</th>\n",
       "      <td>2</td>\n",
       "      <td>Lawnmower Dog</td>\n",
       "      <td>December 9, 2013</td>\n",
       "      <td>S01E02</td>\n",
       "      <td>https://rickandmortyapi.com/api/episode/2</td>\n",
       "      <td>2017-11-10T12:56:33.916Z</td>\n",
       "      <td>[1, 2, 38, 46, 63, 80, 175, 221, 239, 246, 304...</td>\n",
       "      <td>19</td>\n",
       "    </tr>\n",
       "    <tr>\n",
       "      <th>2</th>\n",
       "      <td>3</td>\n",
       "      <td>Anatomy Park</td>\n",
       "      <td>December 16, 2013</td>\n",
       "      <td>S01E03</td>\n",
       "      <td>https://rickandmortyapi.com/api/episode/3</td>\n",
       "      <td>2017-11-10T12:56:34.022Z</td>\n",
       "      <td>[1, 2, 12, 17, 38, 45, 96, 97, 98, 99, 100, 10...</td>\n",
       "      <td>24</td>\n",
       "    </tr>\n",
       "    <tr>\n",
       "      <th>3</th>\n",
       "      <td>4</td>\n",
       "      <td>M. Night Shaym-Aliens!</td>\n",
       "      <td>January 13, 2014</td>\n",
       "      <td>S01E04</td>\n",
       "      <td>https://rickandmortyapi.com/api/episode/4</td>\n",
       "      <td>2017-11-10T12:56:34.129Z</td>\n",
       "      <td>[1, 2, 38, 87, 175, 179, 181, 191, 239, 241, 2...</td>\n",
       "      <td>13</td>\n",
       "    </tr>\n",
       "    <tr>\n",
       "      <th>4</th>\n",
       "      <td>5</td>\n",
       "      <td>Meeseeks and Destroy</td>\n",
       "      <td>January 20, 2014</td>\n",
       "      <td>S01E05</td>\n",
       "      <td>https://rickandmortyapi.com/api/episode/5</td>\n",
       "      <td>2017-11-10T12:56:34.236Z</td>\n",
       "      <td>[1, 2, 38, 41, 89, 116, 117, 120, 175, 193, 23...</td>\n",
       "      <td>20</td>\n",
       "    </tr>\n",
       "  </tbody>\n",
       "</table>\n",
       "</div>"
      ],
      "text/plain": [
       "   id                    name           air_date episode  \\\n",
       "0   1                   Pilot   December 2, 2013  S01E01   \n",
       "1   2           Lawnmower Dog   December 9, 2013  S01E02   \n",
       "2   3            Anatomy Park  December 16, 2013  S01E03   \n",
       "3   4  M. Night Shaym-Aliens!   January 13, 2014  S01E04   \n",
       "4   5    Meeseeks and Destroy   January 20, 2014  S01E05   \n",
       "\n",
       "                                         url                   created  \\\n",
       "0  https://rickandmortyapi.com/api/episode/1  2017-11-10T12:56:33.798Z   \n",
       "1  https://rickandmortyapi.com/api/episode/2  2017-11-10T12:56:33.916Z   \n",
       "2  https://rickandmortyapi.com/api/episode/3  2017-11-10T12:56:34.022Z   \n",
       "3  https://rickandmortyapi.com/api/episode/4  2017-11-10T12:56:34.129Z   \n",
       "4  https://rickandmortyapi.com/api/episode/5  2017-11-10T12:56:34.236Z   \n",
       "\n",
       "                                       character_ids  total_characters  \n",
       "0  [1, 2, 35, 38, 62, 92, 127, 144, 158, 175, 179...                19  \n",
       "1  [1, 2, 38, 46, 63, 80, 175, 221, 239, 246, 304...                19  \n",
       "2  [1, 2, 12, 17, 38, 45, 96, 97, 98, 99, 100, 10...                24  \n",
       "3  [1, 2, 38, 87, 175, 179, 181, 191, 239, 241, 2...                13  \n",
       "4  [1, 2, 38, 41, 89, 116, 117, 120, 175, 193, 23...                20  "
      ]
     },
     "execution_count": 11,
     "metadata": {},
     "output_type": "execute_result"
    }
   ],
   "source": [
    "# Clean the origin column\n",
    "import re\n",
    "\n",
    "# Function to extract the last digit (resident id) from each URL\n",
    "def extract_character_ids(character_list):\n",
    "    if character_list:\n",
    "        return [re.search(r'/(\\d+)$', url).group(1) for url in character_list if re.search(r'/(\\d+)$', url)]\n",
    "    return []\n",
    "\n",
    "# Apply the function to the episodes column\n",
    "episodes_df['character_ids'] = episodes_df['characters'].apply(extract_character_ids)\n",
    "episodes_df['total_characters'] = episodes_df['character_ids'].apply(len)\n",
    "\n",
    "# Drop origin and location columns\n",
    "episodes_df = episodes_df.drop('characters', axis=1)\n",
    "\n",
    "episodes_df.head()"
   ]
  },
  {
   "cell_type": "code",
   "execution_count": 12,
   "id": "cacc431f",
   "metadata": {},
   "outputs": [
    {
     "data": {
      "text/html": [
       "<div>\n",
       "<style scoped>\n",
       "    .dataframe tbody tr th:only-of-type {\n",
       "        vertical-align: middle;\n",
       "    }\n",
       "\n",
       "    .dataframe tbody tr th {\n",
       "        vertical-align: top;\n",
       "    }\n",
       "\n",
       "    .dataframe thead th {\n",
       "        text-align: right;\n",
       "    }\n",
       "</style>\n",
       "<table border=\"1\" class=\"dataframe\">\n",
       "  <thead>\n",
       "    <tr style=\"text-align: right;\">\n",
       "      <th></th>\n",
       "      <th>id</th>\n",
       "      <th>name</th>\n",
       "      <th>air_date</th>\n",
       "      <th>episode</th>\n",
       "      <th>character_ids</th>\n",
       "      <th>total_characters</th>\n",
       "      <th>created</th>\n",
       "      <th>url</th>\n",
       "    </tr>\n",
       "  </thead>\n",
       "  <tbody>\n",
       "    <tr>\n",
       "      <th>0</th>\n",
       "      <td>1</td>\n",
       "      <td>Pilot</td>\n",
       "      <td>December 2, 2013</td>\n",
       "      <td>S01E01</td>\n",
       "      <td>[1, 2, 35, 38, 62, 92, 127, 144, 158, 175, 179...</td>\n",
       "      <td>19</td>\n",
       "      <td>2017-11-10T12:56:33.798Z</td>\n",
       "      <td>https://rickandmortyapi.com/api/episode/1</td>\n",
       "    </tr>\n",
       "    <tr>\n",
       "      <th>1</th>\n",
       "      <td>2</td>\n",
       "      <td>Lawnmower Dog</td>\n",
       "      <td>December 9, 2013</td>\n",
       "      <td>S01E02</td>\n",
       "      <td>[1, 2, 38, 46, 63, 80, 175, 221, 239, 246, 304...</td>\n",
       "      <td>19</td>\n",
       "      <td>2017-11-10T12:56:33.916Z</td>\n",
       "      <td>https://rickandmortyapi.com/api/episode/2</td>\n",
       "    </tr>\n",
       "    <tr>\n",
       "      <th>2</th>\n",
       "      <td>3</td>\n",
       "      <td>Anatomy Park</td>\n",
       "      <td>December 16, 2013</td>\n",
       "      <td>S01E03</td>\n",
       "      <td>[1, 2, 12, 17, 38, 45, 96, 97, 98, 99, 100, 10...</td>\n",
       "      <td>24</td>\n",
       "      <td>2017-11-10T12:56:34.022Z</td>\n",
       "      <td>https://rickandmortyapi.com/api/episode/3</td>\n",
       "    </tr>\n",
       "    <tr>\n",
       "      <th>3</th>\n",
       "      <td>4</td>\n",
       "      <td>M. Night Shaym-Aliens!</td>\n",
       "      <td>January 13, 2014</td>\n",
       "      <td>S01E04</td>\n",
       "      <td>[1, 2, 38, 87, 175, 179, 181, 191, 239, 241, 2...</td>\n",
       "      <td>13</td>\n",
       "      <td>2017-11-10T12:56:34.129Z</td>\n",
       "      <td>https://rickandmortyapi.com/api/episode/4</td>\n",
       "    </tr>\n",
       "    <tr>\n",
       "      <th>4</th>\n",
       "      <td>5</td>\n",
       "      <td>Meeseeks and Destroy</td>\n",
       "      <td>January 20, 2014</td>\n",
       "      <td>S01E05</td>\n",
       "      <td>[1, 2, 38, 41, 89, 116, 117, 120, 175, 193, 23...</td>\n",
       "      <td>20</td>\n",
       "      <td>2017-11-10T12:56:34.236Z</td>\n",
       "      <td>https://rickandmortyapi.com/api/episode/5</td>\n",
       "    </tr>\n",
       "  </tbody>\n",
       "</table>\n",
       "</div>"
      ],
      "text/plain": [
       "   id                    name           air_date episode  \\\n",
       "0   1                   Pilot   December 2, 2013  S01E01   \n",
       "1   2           Lawnmower Dog   December 9, 2013  S01E02   \n",
       "2   3            Anatomy Park  December 16, 2013  S01E03   \n",
       "3   4  M. Night Shaym-Aliens!   January 13, 2014  S01E04   \n",
       "4   5    Meeseeks and Destroy   January 20, 2014  S01E05   \n",
       "\n",
       "                                       character_ids  total_characters  \\\n",
       "0  [1, 2, 35, 38, 62, 92, 127, 144, 158, 175, 179...                19   \n",
       "1  [1, 2, 38, 46, 63, 80, 175, 221, 239, 246, 304...                19   \n",
       "2  [1, 2, 12, 17, 38, 45, 96, 97, 98, 99, 100, 10...                24   \n",
       "3  [1, 2, 38, 87, 175, 179, 181, 191, 239, 241, 2...                13   \n",
       "4  [1, 2, 38, 41, 89, 116, 117, 120, 175, 193, 23...                20   \n",
       "\n",
       "                    created                                        url  \n",
       "0  2017-11-10T12:56:33.798Z  https://rickandmortyapi.com/api/episode/1  \n",
       "1  2017-11-10T12:56:33.916Z  https://rickandmortyapi.com/api/episode/2  \n",
       "2  2017-11-10T12:56:34.022Z  https://rickandmortyapi.com/api/episode/3  \n",
       "3  2017-11-10T12:56:34.129Z  https://rickandmortyapi.com/api/episode/4  \n",
       "4  2017-11-10T12:56:34.236Z  https://rickandmortyapi.com/api/episode/5  "
      ]
     },
     "execution_count": 12,
     "metadata": {},
     "output_type": "execute_result"
    }
   ],
   "source": [
    "# Reorder columns\n",
    "episodes_df = episodes_df[episodes_df.columns[[0, 1, 2, 3, 6, 7, 5, 4]]]\n",
    "\n",
    "episodes_df.head()"
   ]
  },
  {
   "cell_type": "markdown",
   "id": "ffae4ede",
   "metadata": {},
   "source": [
    "## EDA - Exploratory Data Analysis"
   ]
  },
  {
   "cell_type": "code",
   "execution_count": 13,
   "id": "69c1e04f",
   "metadata": {},
   "outputs": [],
   "source": [
    "# import visulaization libraries\n",
    "import matplotlib.pyplot as plt\n",
    "import seaborn as sns\n",
    "%matplotlib inline"
   ]
  },
  {
   "cell_type": "code",
   "execution_count": 29,
   "id": "87bf28f7",
   "metadata": {
    "scrolled": true
   },
   "outputs": [
    {
     "data": {
      "text/plain": [
       "Planet           62\n",
       "Space station     7\n",
       "Dimension         4\n",
       "Microverse        3\n",
       "Name: type, dtype: int64"
      ]
     },
     "execution_count": 29,
     "metadata": {},
     "output_type": "execute_result"
    }
   ],
   "source": [
    "# Location type value count\n",
    "type_of_loc = location_df['type'].value_counts().head(4)\n",
    "type_of_loc"
   ]
  },
  {
   "cell_type": "code",
   "execution_count": 32,
   "id": "c6f6b0a7",
   "metadata": {},
   "outputs": [
    {
     "data": {
      "image/png": "[encoded data removed]",
      "text/plain": [
       "<Figure size 432x288 with 1 Axes>"
      ]
     },
     "metadata": {
      "needs_background": "light"
     },
     "output_type": "display_data"
    }
   ],
   "source": [
    "# Plot a bar plot showing the status\n",
    "ax = sns.barplot(x=type_of_loc.index, y=type_of_loc.values)\n",
    "\n",
    "# Set the xtick labels\n",
    "ax.set_xticklabels(type_of_loc.index)\n",
    "ax.set_title('Top 4 Types of Locations');"
   ]
  },
  {
   "cell_type": "markdown",
   "id": "b0821691",
   "metadata": {},
   "source": [
    "### Top 10 charcater episode appearances"
   ]
  },
  {
   "cell_type": "code",
   "execution_count": 16,
   "id": "465ebfbb",
   "metadata": {},
   "outputs": [
    {
     "data": {
      "text/html": [
       "<div>\n",
       "<style scoped>\n",
       "    .dataframe tbody tr th:only-of-type {\n",
       "        vertical-align: middle;\n",
       "    }\n",
       "\n",
       "    .dataframe tbody tr th {\n",
       "        vertical-align: top;\n",
       "    }\n",
       "\n",
       "    .dataframe thead th {\n",
       "        text-align: right;\n",
       "    }\n",
       "</style>\n",
       "<table border=\"1\" class=\"dataframe\">\n",
       "  <thead>\n",
       "    <tr style=\"text-align: right;\">\n",
       "      <th></th>\n",
       "      <th>episode</th>\n",
       "      <th>total_characters</th>\n",
       "    </tr>\n",
       "  </thead>\n",
       "  <tbody>\n",
       "    <tr>\n",
       "      <th>27</th>\n",
       "      <td>S03E07</td>\n",
       "      <td>65</td>\n",
       "    </tr>\n",
       "    <tr>\n",
       "      <th>9</th>\n",
       "      <td>S01E10</td>\n",
       "      <td>60</td>\n",
       "    </tr>\n",
       "    <tr>\n",
       "      <th>7</th>\n",
       "      <td>S01E08</td>\n",
       "      <td>57</td>\n",
       "    </tr>\n",
       "    <tr>\n",
       "      <th>36</th>\n",
       "      <td>S04E06</td>\n",
       "      <td>49</td>\n",
       "    </tr>\n",
       "    <tr>\n",
       "      <th>21</th>\n",
       "      <td>S03E01</td>\n",
       "      <td>44</td>\n",
       "    </tr>\n",
       "    <tr>\n",
       "      <th>50</th>\n",
       "      <td>S05E10</td>\n",
       "      <td>42</td>\n",
       "    </tr>\n",
       "    <tr>\n",
       "      <th>18</th>\n",
       "      <td>S02E08</td>\n",
       "      <td>40</td>\n",
       "    </tr>\n",
       "    <tr>\n",
       "      <th>31</th>\n",
       "      <td>S04E01</td>\n",
       "      <td>38</td>\n",
       "    </tr>\n",
       "    <tr>\n",
       "      <th>42</th>\n",
       "      <td>S05E02</td>\n",
       "      <td>37</td>\n",
       "    </tr>\n",
       "    <tr>\n",
       "      <th>12</th>\n",
       "      <td>S02E02</td>\n",
       "      <td>36</td>\n",
       "    </tr>\n",
       "  </tbody>\n",
       "</table>\n",
       "</div>"
      ],
      "text/plain": [
       "   episode  total_characters\n",
       "27  S03E07                65\n",
       "9   S01E10                60\n",
       "7   S01E08                57\n",
       "36  S04E06                49\n",
       "21  S03E01                44\n",
       "50  S05E10                42\n",
       "18  S02E08                40\n",
       "31  S04E01                38\n",
       "42  S05E02                37\n",
       "12  S02E02                36"
      ]
     },
     "execution_count": 16,
     "metadata": {},
     "output_type": "execute_result"
    }
   ],
   "source": [
    "# Sort the DataFrame by 'total_episodes' in descending order\n",
    "sorted_df = episodes_df.sort_values(by='total_characters', ascending=False)\n",
    "\n",
    "# Select the top 10 characters\n",
    "top_10 = sorted_df.head(10)\n",
    "\n",
    "# Display the result\n",
    "top_10[['episode', 'total_characters']]\n"
   ]
  },
  {
   "cell_type": "code",
   "execution_count": null,
   "id": "985b1e24",
   "metadata": {},
   "outputs": [],
   "source": []
  }
 ],
 "metadata": {
  "kernelspec": {
   "display_name": "Python (learn-env)",
   "language": "python",
   "name": "learn-env"
  },
  "language_info": {
   "codemirror_mode": {
    "name": "ipython",
    "version": 3
   },
   "file_extension": ".py",
   "mimetype": "text/x-python",
   "name": "python",
   "nbconvert_exporter": "python",
   "pygments_lexer": "ipython3",
   "version": "3.8.5"
  }
 },
 "nbformat": 4,
 "nbformat_minor": 5
}
