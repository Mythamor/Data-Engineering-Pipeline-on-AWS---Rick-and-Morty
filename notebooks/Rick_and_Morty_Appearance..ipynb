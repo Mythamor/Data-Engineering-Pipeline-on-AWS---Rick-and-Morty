{
 "cells": [
  {
   "cell_type": "markdown",
   "id": "b9c3ea91-e1cf-4388-b928-1373a0f4fa4a",
   "metadata": {},
   "source": [
    "## Connect to the MySQL DB "
   ]
  },
  {
   "cell_type": "code",
   "execution_count": null,
   "id": "044cd3df-a7bd-4b47-9cc1-1e9569f9c805",
   "metadata": {},
   "outputs": [],
   "source": [
    "# Import relevant libraries\n",
    "import pandas as pd\n",
    "import os\n",
    "import pymysql.cursors"
   ]
  },
  {
   "cell_type": "code",
   "execution_count": null,
   "id": "bde0df00-5978-44fa-a05b-614da39e3d76",
   "metadata": {},
   "outputs": [],
   "source": [
    "# Define environmental variables\n",
    "HOST = os.getenv(\"HOST\")\n",
    "USER = os.getenv(\"USER\")\n",
    "PASSWORD = os.getenv(\"PASSWORD\")\n",
    "DATABASE = os.getenv(\"DATABASE\")\n",
    "PORT = os.getenv(\"PORT\")"
   ]
  },
  {
   "cell_type": "code",
   "execution_count": null,
   "id": "ce49e2d1-78a6-4190-a9d5-b9bfe90e1573",
   "metadata": {},
   "outputs": [],
   "source": [
    "# Connect\n",
    "conn = pymysql.connect(host=HOST,\n",
    "                       user=USER,\n",
    "                       password=PASSWORD,\n",
    "                       port=PORT,\n",
    "                       database=DATABASE,\n",
    "                       cursorclass=pymysql.cursors.DictCursor)\n",
    "cursor = conn.cursor()"
   ]
  },
  {
   "cell_type": "code",
   "execution_count": null,
   "id": "9f18b80b-d7af-467a-b5ff-25b71c5b100d",
   "metadata": {},
   "outputs": [],
   "source": [
    "query = \"\"\"\n",
    "SELECT * FROM Characters\n",
    "\"\"\"\n",
    "\n",
    "# Execute the query\n",
    "cursor.execute(query)\n",
    "\n",
    "#Fetch all results\n",
    "results = cursor.fetchall()\n",
    "\n",
    "# Convert results to a DataFrame for better display and analysis\n",
    "df = pd.DataFrame(results, columns=[desc[0] for desc in cursor.description])\n",
    "\n",
    "# Display the DataFrame\n",
    "print(df.info())\n",
    "df.head()"
   ]
  },
  {
   "cell_type": "code",
   "execution_count": null,
   "id": "19fa064e-bbee-4bd4-b0cb-a7e5cc5c67fb",
   "metadata": {},
   "outputs": [],
   "source": [
    "## Close the cursor and connection"
   ]
  },
  {
   "cell_type": "code",
   "execution_count": null,
   "id": "aed393a9-6a1c-41df-8fa6-d8081e99d3bc",
   "metadata": {},
   "outputs": [],
   "source": [
    "# Close the cursor and connection\n",
    "cursor.close()\n",
    "connection.close()"
   ]
  }
 ],
 "metadata": {
  "kernelspec": {
   "display_name": "Python 3 (ipykernel)",
   "language": "python",
   "name": "python3"
  },
  "language_info": {
   "codemirror_mode": {
    "name": "ipython",
    "version": 3
   },
   "file_extension": ".py",
   "mimetype": "text/x-python",
   "name": "python",
   "nbconvert_exporter": "python",
   "pygments_lexer": "ipython3",
   "version": "3.11.9"
  }
 },
 "nbformat": 4,
 "nbformat_minor": 5
}
